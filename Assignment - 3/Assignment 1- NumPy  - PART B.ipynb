{
 "cells": [
  {
   "cell_type": "markdown",
   "metadata": {
    "deletable": true,
    "editable": true
   },
   "source": [
    "# Assignment - 1 (NumPy - Part B)"
   ]
  },
  {
   "cell_type": "code",
   "execution_count": 25,
   "metadata": {
    "collapsed": false
   },
   "outputs": [],
   "source": [
    "import numpy as np"
   ]
  },
  {
   "cell_type": "code",
   "execution_count": 35,
   "metadata": {
    "collapsed": false,
    "deletable": true,
    "editable": true
   },
   "outputs": [
    {
     "data": {
      "text/plain": [
       "[0]"
      ]
     },
     "execution_count": 35,
     "metadata": {},
     "output_type": "execute_result"
    }
   ],
   "source": [
    "a = np.array([[5 ,2 ,-3 ]])\n",
    "list(range(len(a)))"
   ]
  },
  {
   "cell_type": "markdown",
   "metadata": {
    "deletable": true,
    "editable": true
   },
   "source": [
    "## Min"
   ]
  },
  {
   "cell_type": "code",
   "execution_count": 34,
   "metadata": {
    "collapsed": false,
    "deletable": true,
    "editable": true
   },
   "outputs": [
    {
     "data": {
      "text/plain": [
       "-3"
      ]
     },
     "execution_count": 34,
     "metadata": {},
     "output_type": "execute_result"
    }
   ],
   "source": [
    "def minval(a):\n",
    "    miv = a[0][0]\n",
    "    for i in list(range(len(a))):\n",
    "        for j in list(range(len(a[0]))):\n",
    "                if a[i][j] < miv:\n",
    "                    miv = a[i][j]\n",
    "    return(miv)                \n",
    "minval(a)                    "
   ]
  },
  {
   "cell_type": "markdown",
   "metadata": {
    "deletable": true,
    "editable": true
   },
   "source": [
    "## Max"
   ]
  },
  {
   "cell_type": "code",
   "execution_count": 3,
   "metadata": {
    "collapsed": false,
    "deletable": true,
    "editable": true
   },
   "outputs": [
    {
     "data": {
      "text/plain": [
       "14"
      ]
     },
     "execution_count": 3,
     "metadata": {},
     "output_type": "execute_result"
    }
   ],
   "source": [
    "def maxval(a):\n",
    "    mav = a[0][0]\n",
    "    for i in list(range(len(a))):\n",
    "        for j in list(range(len(a[0]))):\n",
    "                if a[i][j] > mav:\n",
    "                    mav = a[i][j]\n",
    "    return(mav)                \n",
    "maxval(a)                    "
   ]
  },
  {
   "cell_type": "markdown",
   "metadata": {
    "deletable": true,
    "editable": true
   },
   "source": [
    "## MEAN ##"
   ]
  },
  {
   "cell_type": "code",
   "execution_count": 4,
   "metadata": {
    "collapsed": false,
    "deletable": true,
    "editable": true
   },
   "outputs": [
    {
     "data": {
      "text/plain": [
       "3.6666666666666665"
      ]
     },
     "execution_count": 4,
     "metadata": {},
     "output_type": "execute_result"
    }
   ],
   "source": [
    "def meanval(a):\n",
    "    sum = 0\n",
    "    for i in list(range(len(a))):\n",
    "        for j in list(range(len(a[0]))):\n",
    "                    sum = sum + a[i][j]\n",
    "                \n",
    "    return(sum / (len(a) * len(a[0])))                \n",
    "meanval(a)                    "
   ]
  },
  {
   "cell_type": "markdown",
   "metadata": {
    "deletable": true,
    "editable": true
   },
   "source": [
    "## Argmin"
   ]
  },
  {
   "cell_type": "code",
   "execution_count": 5,
   "metadata": {
    "collapsed": false,
    "deletable": true,
    "editable": true
   },
   "outputs": [
    {
     "data": {
      "text/plain": [
       "2"
      ]
     },
     "execution_count": 5,
     "metadata": {},
     "output_type": "execute_result"
    }
   ],
   "source": [
    "def argumin(a):\n",
    "    miv = 0\n",
    "    s = 0\n",
    "    miv_index = 0\n",
    "    for i in list(range(len(a))):\n",
    "        for j in list(range(len(a[0]))):\n",
    "            if a[i][j] < miv:\n",
    "                miv = a[i][j]\n",
    "                miv_index = s\n",
    "            s = s + 1    \n",
    "                \n",
    "    return(miv_index)                \n",
    "argumin(a)  "
   ]
  },
  {
   "cell_type": "markdown",
   "metadata": {
    "deletable": true,
    "editable": true
   },
   "source": [
    "## Argmax "
   ]
  },
  {
   "cell_type": "code",
   "execution_count": 6,
   "metadata": {
    "collapsed": false,
    "deletable": true,
    "editable": true
   },
   "outputs": [
    {
     "data": {
      "text/plain": [
       "3"
      ]
     },
     "execution_count": 6,
     "metadata": {},
     "output_type": "execute_result"
    }
   ],
   "source": [
    "def argumax(a):\n",
    "    mav = 0\n",
    "    s = 0\n",
    "    mav_index = 0\n",
    "    for i in list(range(len(a))):\n",
    "        for j in list(range(len(a[0]))):\n",
    "            if a[i][j] > mav:\n",
    "                mav = a[i][j]\n",
    "                mav_index = s\n",
    "            s = s + 1    \n",
    "                \n",
    "    return(mav_index)                \n",
    "argumax(a)"
   ]
  },
  {
   "cell_type": "markdown",
   "metadata": {
    "deletable": true,
    "editable": true
   },
   "source": [
    "## Flatten"
   ]
  },
  {
   "cell_type": "code",
   "execution_count": 7,
   "metadata": {
    "collapsed": false,
    "deletable": true,
    "editable": true
   },
   "outputs": [
    {
     "data": {
      "text/plain": [
       "[5, 2, -3, 14, -3, 0, 2, 8, 8]"
      ]
     },
     "execution_count": 7,
     "metadata": {},
     "output_type": "execute_result"
    }
   ],
   "source": [
    "def flatarr(a):\n",
    "    arr = []\n",
    "    for i in list(range(len(a))):\n",
    "        for j in list(range(len(a))):\n",
    "            arr.append(a[i][j]) \n",
    "    return(arr)                \n",
    "flatarr(a)"
   ]
  },
  {
   "cell_type": "markdown",
   "metadata": {
    "deletable": true,
    "editable": true
   },
   "source": [
    "## Ravel"
   ]
  },
  {
   "cell_type": "code",
   "execution_count": 8,
   "metadata": {
    "collapsed": false,
    "deletable": true,
    "editable": true
   },
   "outputs": [
    {
     "data": {
      "text/plain": [
       "[5, 2, -3, 14, -3, 0, 2, 8, 8]"
      ]
     },
     "execution_count": 8,
     "metadata": {},
     "output_type": "execute_result"
    }
   ],
   "source": [
    "def ravelarr(a):\n",
    "    arr = []\n",
    "    for i in list(range(len(a))):\n",
    "        for j in list(range(len(a[0]))):\n",
    "            arr.append(a[i][j]) \n",
    "    return(arr)                \n",
    "ravelarr(a)"
   ]
  },
  {
   "cell_type": "markdown",
   "metadata": {
    "deletable": true,
    "editable": true
   },
   "source": [
    "## Dot Product"
   ]
  },
  {
   "cell_type": "code",
   "execution_count": 12,
   "metadata": {
    "collapsed": false,
    "deletable": true,
    "editable": true
   },
   "outputs": [
    {
     "data": {
      "text/plain": [
       "[[5, 2, -3], [14, -3, 0], [2, 8, 8]]"
      ]
     },
     "execution_count": 12,
     "metadata": {},
     "output_type": "execute_result"
    }
   ],
   "source": [
    "def multiply(a,b):\n",
    "    c = []\n",
    "    for i in list(range(len(a))):\n",
    "        w = []\n",
    "        for j in list(range(len(b[0]))):\n",
    "            s = 0\n",
    "            for k in list(range(len(a[0]))):\n",
    "                s = s + (a[i][k] * b[k][j]) \n",
    "            w.append(s)\n",
    "        c.append(w)    \n",
    "    return(c)\n",
    "b = np.array([[1 ,0 ,0 ],[0 ,1 ,0 ],[0 ,0 ,1]])\n",
    "multiply(a ,b)"
   ]
  },
  {
   "cell_type": "markdown",
   "metadata": {
    "deletable": true,
    "editable": true
   },
   "source": [
    "## Element Wise Multiplication"
   ]
  },
  {
   "cell_type": "code",
   "execution_count": 14,
   "metadata": {
    "collapsed": false,
    "deletable": true,
    "editable": true
   },
   "outputs": [
    {
     "data": {
      "text/plain": [
       "[[5, 4, -9], [56, -15, 0], [14, 64, 72]]"
      ]
     },
     "execution_count": 14,
     "metadata": {},
     "output_type": "execute_result"
    }
   ],
   "source": [
    "def prod(a,b):\n",
    "    c = []\n",
    "    for i in list(range(len(a))):\n",
    "        w = []\n",
    "        for j in list(range(len(a[0]))):\n",
    "                w.append(a[i][j] * b[i][j]) \n",
    "        c.append(w)     \n",
    "    return(c)\n",
    "b=[[1 ,2 ,3],[4 ,5 ,6],[7 ,8 ,9]]\n",
    "prod(a ,b)"
   ]
  },
  {
   "cell_type": "markdown",
   "metadata": {
    "deletable": true,
    "editable": true
   },
   "source": [
    "## Arange and Reshape"
   ]
  },
  {
   "cell_type": "code",
   "execution_count": 17,
   "metadata": {
    "collapsed": false,
    "deletable": true,
    "editable": true
   },
   "outputs": [
    {
     "data": {
      "text/plain": [
       "[0, 1, 2, 3, 4]"
      ]
     },
     "execution_count": 17,
     "metadata": {},
     "output_type": "execute_result"
    }
   ],
   "source": [
    "def arangen(n):\n",
    "    return(list(range(n)))\n",
    "arangen(5)"
   ]
  },
  {
   "cell_type": "code",
   "execution_count": 18,
   "metadata": {
    "collapsed": false,
    "deletable": true,
    "editable": true
   },
   "outputs": [
    {
     "data": {
      "text/plain": [
       "[[1, 2, 3], [4, 5, 6]]"
      ]
     },
     "execution_count": 18,
     "metadata": {},
     "output_type": "execute_result"
    }
   ],
   "source": [
    "def reshapen(x ,r ,c):\n",
    "    ca = []\n",
    "    k = 0\n",
    "    for i in list(range(r)):\n",
    "        w = []\n",
    "        for j in list(range(c)):\n",
    "                w.append(x[k])\n",
    "                k = k + 1\n",
    "        ca.append(w)        \n",
    "    return(ca)\n",
    "reshapen([1 ,2 ,3 ,4 ,5 ,6],2 ,3)"
   ]
  },
  {
   "cell_type": "markdown",
   "metadata": {
    "deletable": true,
    "editable": true
   },
   "source": [
    "## Eye"
   ]
  },
  {
   "cell_type": "code",
   "execution_count": 19,
   "metadata": {
    "collapsed": false,
    "deletable": true,
    "editable": true
   },
   "outputs": [
    {
     "data": {
      "text/plain": [
       "[[1, 0, 0], [0, 1, 0], [0, 0, 1]]"
      ]
     },
     "execution_count": 19,
     "metadata": {},
     "output_type": "execute_result"
    }
   ],
   "source": [
    "def ident(n):\n",
    "    c = []\n",
    "    for i in list(range(n)):\n",
    "        w = []\n",
    "        for j in list(range(n)):\n",
    "            if i == j:\n",
    "                w.append(1)\n",
    "            else:\n",
    "                w.append(0)\n",
    "        c.append(w)        \n",
    "    return(c)\n",
    "ident(3)"
   ]
  },
  {
   "cell_type": "code",
   "execution_count": 20,
   "metadata": {
    "collapsed": false,
    "deletable": true,
    "editable": true
   },
   "outputs": [
    {
     "data": {
      "text/plain": [
       "[[1, 0, 0], [0, 1, 0], [0, 0, 1]]"
      ]
     },
     "execution_count": 20,
     "metadata": {},
     "output_type": "execute_result"
    }
   ],
   "source": [
    "def eyen(r ,c):\n",
    "    ca = []\n",
    "    for i in list(range(r)):\n",
    "        w = []\n",
    "        for j in list(range(c)):\n",
    "            if i == j:\n",
    "                w.append(1)\n",
    "            else:\n",
    "                w.append(0)\n",
    "        ca.append(w)        \n",
    "    return(ca)\n",
    "eyen(3 ,3)"
   ]
  },
  {
   "cell_type": "markdown",
   "metadata": {
    "deletable": true,
    "editable": true
   },
   "source": [
    "## Sum"
   ]
  },
  {
   "cell_type": "code",
   "execution_count": 21,
   "metadata": {
    "collapsed": false,
    "deletable": true,
    "editable": true
   },
   "outputs": [
    {
     "data": {
      "text/plain": [
       "33"
      ]
     },
     "execution_count": 21,
     "metadata": {},
     "output_type": "execute_result"
    }
   ],
   "source": [
    "def sumarr(a):\n",
    "    s = 0\n",
    "    for i in list(range(len(a))):\n",
    "        print(\"i=\",i)\n",
    "\n",
    "        for j in list(range(len(a[0]))):\n",
    "            s = s + a[i][j]\n",
    "    return(s)\n",
    "sumarr(a)"
   ]
  },
  {
   "cell_type": "markdown",
   "metadata": {
    "deletable": true,
    "editable": true
   },
   "source": [
    "## Diag"
   ]
  },
  {
   "cell_type": "code",
   "execution_count": 22,
   "metadata": {
    "collapsed": false,
    "deletable": true,
    "editable": true
   },
   "outputs": [
    {
     "data": {
      "text/plain": [
       "[5, -3, 8]"
      ]
     },
     "execution_count": 22,
     "metadata": {},
     "output_type": "execute_result"
    }
   ],
   "source": [
    "def diagarr(a):\n",
    "    c = []\n",
    "    for i in list(range(len(a))):\n",
    "        for j in list(range(len(a[0]))):\n",
    "            if i == j:\n",
    "                c.append(a[i][j])\n",
    "    return(c)\n",
    "diagarr(a)"
   ]
  },
  {
   "cell_type": "markdown",
   "metadata": {
    "deletable": true,
    "editable": true
   },
   "source": [
    "## Tril/Triu"
   ]
  },
  {
   "cell_type": "code",
   "execution_count": 23,
   "metadata": {
    "collapsed": false,
    "deletable": true,
    "editable": true
   },
   "outputs": [
    {
     "data": {
      "text/plain": [
       "[[5, 0, 0], [14, -3, 0], [2, 8, 8]]"
      ]
     },
     "execution_count": 23,
     "metadata": {},
     "output_type": "execute_result"
    }
   ],
   "source": [
    "def trilarr(a):\n",
    "    c = []\n",
    "    for i in list(range(len(a))):\n",
    "        w = []\n",
    "        for j in list(range(len(a[0]))):\n",
    "            if i >= j:\n",
    "                w.append(a[i][j])\n",
    "            else:\n",
    "                w.append(0)\n",
    "        c.append(w)        \n",
    "    return(c)\n",
    "trilarr(a)"
   ]
  },
  {
   "cell_type": "code",
   "execution_count": 24,
   "metadata": {
    "collapsed": false,
    "deletable": true,
    "editable": true
   },
   "outputs": [
    {
     "data": {
      "text/plain": [
       "[[5, 2, -3], [0, -3, 0], [0, 0, 8]]"
      ]
     },
     "execution_count": 24,
     "metadata": {},
     "output_type": "execute_result"
    }
   ],
   "source": [
    "def triuarr(a):\n",
    "    c = []\n",
    "    for i in list(range(len(a))):\n",
    "        w = []\n",
    "        for j in list(range(len(a[0]))):\n",
    "            if i <= j:\n",
    "                w.append(a[i][j])\n",
    "            else:\n",
    "                w.append(0)\n",
    "        c.append(w)        \n",
    "    return(c)\n",
    "triuarr(a)"
   ]
  }
 ],
 "metadata": {
  "kernelspec": {
   "display_name": "Python 3",
   "language": "python",
   "name": "python3"
  },
  "language_info": {
   "codemirror_mode": {
    "name": "ipython",
    "version": 3
   },
   "file_extension": ".py",
   "mimetype": "text/x-python",
   "name": "python",
   "nbconvert_exporter": "python",
   "pygments_lexer": "ipython3",
   "version": "3.5.2"
  }
 },
 "nbformat": 4,
 "nbformat_minor": 2
}
