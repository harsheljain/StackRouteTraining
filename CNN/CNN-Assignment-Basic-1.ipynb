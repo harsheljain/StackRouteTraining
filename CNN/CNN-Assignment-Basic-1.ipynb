{
 "cells": [
  {
   "cell_type": "markdown",
   "metadata": {
    "deletable": true,
    "editable": true
   },
   "source": [
    "# What is CNN ?\n",
    "\n",
    "\n",
    "#### A CNN is a neural network that typically contains several types of layers, which includes :-\n",
    "\n",
    "* convolutional layer \n",
    "* pooling layer, and \n",
    "* activation layer."
   ]
  },
  {
   "cell_type": "markdown",
   "metadata": {
    "deletable": true,
    "editable": true
   },
   "source": [
    "## Convolutional Layer\n",
    "\n",
    "* To understand what a CNN is, you need to understand how convolutions work. \n",
    "\n",
    "* Imagine you have an image represented as a 5x5 matrix of values, and you take a 3x3 matrix and slide that 3x3 window around the image. \n",
    "\n",
    "* At each position the 3x3 visits, you matrix multiply the values of your 3x3 window by the values in the image that are currently being covered by the window. \n",
    "\n",
    "* This results in a single number the represents all the values in that window of the image. \n",
    "\n",
    "Here’s a gif for clarity:"
   ]
  },
  {
   "cell_type": "markdown",
   "metadata": {
    "deletable": true,
    "editable": true
   },
   "source": [
    "![Conv Gif](./conv.gif)"
   ]
  },
  {
   "cell_type": "markdown",
   "metadata": {
    "deletable": true,
    "editable": true
   },
   "source": [
    "## Level - 1 - Code the Convolutional Layer\n"
   ]
  },
  {
   "cell_type": "markdown",
   "metadata": {
    "deletable": true,
    "editable": true
   },
   "source": [
    "![Detailed Conv Gif](./conv_detailed.gif)"
   ]
  },
  {
   "cell_type": "markdown",
   "metadata": {
    "deletable": true,
    "editable": true
   },
   "source": [
    "### Question 1"
   ]
  },
  {
   "cell_type": "code",
   "execution_count": 1,
   "metadata": {
    "collapsed": true,
    "deletable": true,
    "editable": true
   },
   "outputs": [],
   "source": [
    "# Write a function which does the convolution.\n",
    "# Code for a 3d Matrix\n",
    "# Before writing out code, write function header with parameters and get it reviewed by Mentors\n",
    "\n",
    "import pandas as pd\n",
    "import numpy as np"
   ]
  },
  {
   "cell_type": "code",
   "execution_count": 7,
   "metadata": {
    "collapsed": false,
    "deletable": true,
    "editable": true
   },
   "outputs": [],
   "source": [
    "#sliding window\n",
    "def find_mat(img,kernel,r=0,c=0):\n",
    "    r_kernel, c_kernel = kernel.shape[0], kernel.shape[1]\n",
    "    temp_img = np.zeros((r_kernel,c_kernel))\n",
    "    v = 0\n",
    "    for i in range(r,r+r_kernel):\n",
    "        u = 0\n",
    "        for j in range(c,c+c_kernel):\n",
    "            temp_img[v,u]=img[i,j]\n",
    "            u = u+1\n",
    "        v = v +1   \n",
    "    return temp_img    "
   ]
  },
  {
   "cell_type": "code",
   "execution_count": 2,
   "metadata": {
    "collapsed": true,
    "deletable": true,
    "editable": true
   },
   "outputs": [],
   "source": [
    "#conv function\n",
    "def conv_mult(stride):\n",
    "    global img, kernel\n",
    "    r_img, c_img = img.shape[0], img.shape[1]\n",
    "    r_kernel, c_kernel = kernel.shape[0], kernel.shape[1]\n",
    "    r_range, c_range = int(np.ceil((r_img - r_kernel)/stride) + 1), int(np.ceil((c_img - c_kernel)/stride) + 1)\n",
    "    r_list = []\n",
    "    r_list.extend(range(0,r_img))\n",
    "    r_list = r_list[::stride][0:r_range]\n",
    "    c_list = []\n",
    "    c_list.extend(range(0,c_img))\n",
    "    c_list = c_list[::stride][0:c_range]\n",
    "    k=0\n",
    "    ans=np.zeros((r_range,c_range))\n",
    "    for r in r_list:\n",
    "        h=0\n",
    "        for c in c_list:\n",
    "            test1 = find_mat(img,kernel,r,c)\n",
    "            a = np.multiply(test1,kernel)\n",
    "            temp = sum(sum(a))\n",
    "            ans[k,h]=temp\n",
    "            h+=1\n",
    "        k+=1\n",
    "    return ans"
   ]
  },
  {
   "cell_type": "code",
   "execution_count": 4,
   "metadata": {
    "collapsed": false,
    "deletable": true,
    "editable": true
   },
   "outputs": [
    {
     "name": "stdout",
     "output_type": "stream",
     "text": [
      "enter the stride : 1\n",
      "convolution output:\n",
      " [[ 1.61361828  2.16005909  2.66923012  2.51435815]\n",
      " [ 2.57160392  3.02018296  2.55107891  1.47491089]\n",
      " [ 2.44073426  2.73076397  2.2460237   1.31543706]\n",
      " [ 2.07084908  2.2090946   2.1530627   2.05220764]]\n"
     ]
    }
   ],
   "source": [
    "#check conv\n",
    "img = np.random.random((6,6))\n",
    "kernel = np.random.random((3,3))\n",
    "stride = int(input(\"enter the stride : \"))\n",
    "x = conv_mult(stride)\n",
    "print(\"convolution output:\\n\",x)"
   ]
  },
  {
   "cell_type": "markdown",
   "metadata": {
    "deletable": true,
    "editable": true
   },
   "source": [
    "## Pooling Layers\n",
    "\n",
    "* Pooling works very much like convoluting, where we take a kernel and move the kernel over the image, the only difference is the function that is applied to the kernel and the image window isn’t linear.\n",
    "\n",
    "* Max pooling and Average pooling are the most common pooling functions. \n",
    "\n",
    "* Max pooling takes the largest value from the window of the image currently covered by the kernel, while average pooling takes the average of all values in the window."
   ]
  },
  {
   "cell_type": "markdown",
   "metadata": {
    "deletable": true,
    "editable": true
   },
   "source": [
    "![Pooling Gif](./pooling.gif)"
   ]
  },
  {
   "cell_type": "markdown",
   "metadata": {
    "deletable": true,
    "editable": true
   },
   "source": [
    "## Level - 2 - Code the Pooling Layer"
   ]
  },
  {
   "cell_type": "markdown",
   "metadata": {
    "deletable": true,
    "editable": true
   },
   "source": [
    "![Detailed Conv Gif](./Max_pooling.png)"
   ]
  },
  {
   "cell_type": "markdown",
   "metadata": {
    "deletable": true,
    "editable": true
   },
   "source": [
    "### Question 1"
   ]
  },
  {
   "cell_type": "code",
   "execution_count": null,
   "metadata": {
    "collapsed": true,
    "deletable": true,
    "editable": true
   },
   "outputs": [],
   "source": [
    "# Write a function which does the max pooling.\n",
    "# Code for a 3d Matrix\n",
    "# Before writing out code, write function header with parameters and get it reviewed by Mentors\n",
    "\n",
    "def max_pool(img, kernel):\n",
    "    r_img, c_img = img.shape[0], img.shape[1]\n",
    "    r_kernel, c_kernel = kernel.shape[0], kernel.shape[1]\n",
    "    stride = r_kernel\n",
    "    r_range, c_range = int(np.ceil((r_img - r_kernel)/stride) + 1), int(np.ceil((c_img - c_kernel)/stride) + 1)\n",
    "    r_list = []\n",
    "    r_list.extend(range(0,r_img))\n",
    "    r_list = r_list[::stride][0:r_range]\n",
    "    c_list = []\n",
    "    c_list.extend(range(0,c_img))\n",
    "    c_list = c_list[::stride][0:c_range]\n",
    "    k=0\n",
    "    ans=np.zeros((r_range,c_range))\n",
    "    for r in r_list:\n",
    "        h=0\n",
    "        for c in c_list:\n",
    "            test1 = find_mat(img,kernel,r,c)\n",
    "            m = test1.max()\n",
    "            ans[k,h]=m\n",
    "            h+=1\n",
    "        k+=1\n",
    "    return ans"
   ]
  },
  {
   "cell_type": "code",
   "execution_count": 8,
   "metadata": {
    "collapsed": false
   },
   "outputs": [
    {
     "name": "stdout",
     "output_type": "stream",
     "text": [
      "max matrix :\n",
      " [[ 3.02018296  2.66923012]\n",
      " [ 2.73076397  2.2460237 ]]\n"
     ]
    }
   ],
   "source": [
    "#check max pooling function\n",
    "pool_filter = np.random.random((2,2))\n",
    "max_mat = max_pool(x,pool_filter)\n",
    "print(\"max matrix :\\n\",max_mat)"
   ]
  },
  {
   "cell_type": "markdown",
   "metadata": {
    "deletable": true,
    "editable": true
   },
   "source": [
    "### Question 2"
   ]
  },
  {
   "cell_type": "code",
   "execution_count": null,
   "metadata": {
    "collapsed": true,
    "deletable": true,
    "editable": true
   },
   "outputs": [],
   "source": [
    "# Write a function which does the average convolution.\n",
    "# Code for a 3d Matrix\n",
    "# Before writing out code, write function header with parameters and get it reviewed by Mentors"
   ]
  },
  {
   "cell_type": "markdown",
   "metadata": {
    "deletable": true,
    "editable": true
   },
   "source": [
    "# Lets Load an image and visualize the Conv and Pool"
   ]
  },
  {
   "cell_type": "markdown",
   "metadata": {
    "deletable": true,
    "editable": true
   },
   "source": [
    "### Load the Conv and Max pool using Keras"
   ]
  },
  {
   "cell_type": "code",
   "execution_count": null,
   "metadata": {
    "collapsed": false,
    "deletable": true,
    "editable": true
   },
   "outputs": [],
   "source": [
    "from keras.layers import Convolution2D, MaxPooling2D, Activation\n",
    "from keras.models import Sequential\n",
    "\n",
    "\n",
    "import numpy as np\n",
    "import matplotlib.pyplot as plt\n",
    "import cv2  # only used for loading the image, you can use anything that returns the image as a np.ndarray\n",
    "\n",
    "%matplotlib inline"
   ]
  },
  {
   "cell_type": "markdown",
   "metadata": {
    "deletable": true,
    "editable": true
   },
   "source": [
    "### Display the image"
   ]
  },
  {
   "cell_type": "code",
   "execution_count": null,
   "metadata": {
    "collapsed": false,
    "deletable": true,
    "editable": true
   },
   "outputs": [],
   "source": [
    "image = cv2.imread('cat.png') # Please load different Images to explore "
   ]
  },
  {
   "cell_type": "code",
   "execution_count": null,
   "metadata": {
    "collapsed": false,
    "deletable": true,
    "editable": true
   },
   "outputs": [],
   "source": [
    "plt.imshow(image)"
   ]
  },
  {
   "cell_type": "code",
   "execution_count": null,
   "metadata": {
    "collapsed": false,
    "deletable": true,
    "editable": true
   },
   "outputs": [],
   "source": [
    "# what does the image look like?\n",
    "image.shape"
   ]
  },
  {
   "cell_type": "markdown",
   "metadata": {
    "deletable": true,
    "editable": true
   },
   "source": [
    "## Level 3 - Performing and Understading Convolutions "
   ]
  },
  {
   "cell_type": "markdown",
   "metadata": {
    "deletable": true,
    "editable": true
   },
   "source": [
    "### Question 1 "
   ]
  },
  {
   "cell_type": "markdown",
   "metadata": {
    "deletable": true,
    "editable": true
   },
   "source": [
    "### Why it has 3 dimensions ?? "
   ]
  },
  {
   "cell_type": "markdown",
   "metadata": {
    "deletable": true,
    "editable": true
   },
   "source": [
    "Answer - rgb"
   ]
  },
  {
   "cell_type": "markdown",
   "metadata": {
    "deletable": true,
    "editable": true
   },
   "source": [
    "## Play Around with below code to enhance your understanding of CNN"
   ]
  },
  {
   "cell_type": "markdown",
   "metadata": {
    "deletable": true,
    "editable": true
   },
   "source": [
    "## Lets create a model with 1 Convolutional layer"
   ]
  },
  {
   "cell_type": "markdown",
   "metadata": {
    "deletable": true,
    "editable": true
   },
   "source": [
    "### Question 2"
   ]
  },
  {
   "cell_type": "markdown",
   "metadata": {
    "deletable": true,
    "editable": true
   },
   "source": [
    "### Please fill in the comments "
   ]
  },
  {
   "cell_type": "code",
   "execution_count": null,
   "metadata": {
    "collapsed": true,
    "deletable": true,
    "editable": true
   },
   "outputs": [],
   "source": [
    "model = Sequential()\n",
    "model.add(Convolution2D(3,    # number of filters\n",
    "                        (3,    # row dimension of kernel \n",
    "                        3),    # column dimension of kernel\n",
    "                        input_shape=image.shape))"
   ]
  },
  {
   "cell_type": "code",
   "execution_count": null,
   "metadata": {
    "collapsed": true,
    "deletable": true,
    "editable": true
   },
   "outputs": [],
   "source": [
    "image_batch = np.expand_dims(image,axis=0)"
   ]
  },
  {
   "cell_type": "markdown",
   "metadata": {
    "deletable": true,
    "editable": true
   },
   "source": [
    "### Question 3"
   ]
  },
  {
   "cell_type": "markdown",
   "metadata": {
    "deletable": true,
    "editable": true
   },
   "source": [
    "### What Happens if we dont expand the dims of image ? Why we need to do it ?\n"
   ]
  },
  {
   "cell_type": "markdown",
   "metadata": {
    "deletable": true,
    "editable": true
   },
   "source": [
    "Answer - error. because it requires number of images also."
   ]
  },
  {
   "cell_type": "code",
   "execution_count": null,
   "metadata": {
    "collapsed": false,
    "deletable": true,
    "editable": true
   },
   "outputs": [],
   "source": [
    "image_batch.shape"
   ]
  },
  {
   "cell_type": "code",
   "execution_count": null,
   "metadata": {
    "collapsed": true,
    "deletable": true,
    "editable": true
   },
   "outputs": [],
   "source": [
    "conv_image = model.predict(image_batch)"
   ]
  },
  {
   "cell_type": "code",
   "execution_count": null,
   "metadata": {
    "collapsed": false,
    "deletable": true,
    "editable": true
   },
   "outputs": [],
   "source": [
    "plt.imshow(np.squeeze(conv_image, axis=0))"
   ]
  },
  {
   "cell_type": "code",
   "execution_count": null,
   "metadata": {
    "collapsed": true,
    "deletable": true,
    "editable": true
   },
   "outputs": [],
   "source": [
    "def visualize_image(model, image):\n",
    "\n",
    "    image_batch = np.expand_dims(image,axis=0)\n",
    "    conv_image = model.predict(image_batch)\n",
    "    \n",
    "    # here we get rid of that added dimension and plot the image\n",
    "    conv_image = np.squeeze(conv_image, axis=0)\n",
    "    \n",
    "    print (conv_image.shape)\n",
    "    plt.imshow(conv_image)"
   ]
  },
  {
   "cell_type": "code",
   "execution_count": null,
   "metadata": {
    "collapsed": false,
    "deletable": true,
    "editable": true
   },
   "outputs": [],
   "source": [
    "visualize_image(model, image)"
   ]
  },
  {
   "cell_type": "markdown",
   "metadata": {
    "deletable": true,
    "editable": true
   },
   "source": [
    "## Level 4 - Use Your Conv Function to visualize the image"
   ]
  },
  {
   "cell_type": "markdown",
   "metadata": {
    "deletable": true,
    "editable": true
   },
   "source": [
    "### Question 1 - Call your function to perform conv and plot the image obatined "
   ]
  },
  {
   "cell_type": "markdown",
   "metadata": {
    "deletable": true,
    "editable": true
   },
   "source": [
    "## 10x10 Kernel Convimage"
   ]
  },
  {
   "cell_type": "code",
   "execution_count": null,
   "metadata": {
    "collapsed": false,
    "deletable": true,
    "editable": true
   },
   "outputs": [],
   "source": [
    "model = Sequential()\n",
    "model.add(Convolution2D(3,    \n",
    "                        (10,    \n",
    "                        10),    \n",
    "                        input_shape=image.shape))\n",
    "\n",
    "\n",
    "visualize_image(model, image)"
   ]
  },
  {
   "cell_type": "markdown",
   "metadata": {
    "deletable": true,
    "editable": true
   },
   "source": [
    "## Level 5"
   ]
  },
  {
   "cell_type": "markdown",
   "metadata": {
    "deletable": true,
    "editable": true
   },
   "source": [
    "### Question 1"
   ]
  },
  {
   "cell_type": "markdown",
   "metadata": {
    "deletable": true,
    "editable": true
   },
   "source": [
    "### What difference you notice between 3\\*3 and 10\\*10 kernal size ? "
   ]
  },
  {
   "cell_type": "markdown",
   "metadata": {
    "deletable": true,
    "editable": true
   },
   "source": [
    "Answer - "
   ]
  },
  {
   "cell_type": "markdown",
   "metadata": {
    "deletable": true,
    "editable": true
   },
   "source": [
    "### Question 2"
   ]
  },
  {
   "cell_type": "markdown",
   "metadata": {
    "deletable": true,
    "editable": true
   },
   "source": [
    "### What is the reason behing this difference ?"
   ]
  },
  {
   "cell_type": "markdown",
   "metadata": {
    "deletable": true,
    "editable": true
   },
   "source": [
    "Answer -"
   ]
  },
  {
   "cell_type": "markdown",
   "metadata": {
    "deletable": true,
    "editable": true
   },
   "source": [
    "# Play around with code below, to enhance your understading"
   ]
  },
  {
   "cell_type": "markdown",
   "metadata": {
    "deletable": true,
    "editable": true
   },
   "source": [
    "## Another image Vis "
   ]
  },
  {
   "cell_type": "code",
   "execution_count": null,
   "metadata": {
    "collapsed": true,
    "deletable": true,
    "editable": true
   },
   "outputs": [],
   "source": [
    "# Note: matplot lib is pretty inconsistent with how it plots these weird image arrays.\n",
    "\n",
    "def nice_image_printer(model, image):\n",
    "    '''prints the image as a 2d array'''\n",
    "    image_batch = np.expand_dims(image,axis=0)\n",
    "    conv_image2 = model.predict(image_batch)\n",
    "\n",
    "    conv_image2 = np.squeeze(conv_image2, axis=0)\n",
    "    print (conv_image2.shape)\n",
    "    conv_image2 = conv_image2.reshape(conv_image2.shape[:2])\n",
    "\n",
    "    print (conv_image2.shape)\n",
    "    plt.imshow(conv_image2)"
   ]
  },
  {
   "cell_type": "code",
   "execution_count": null,
   "metadata": {
    "collapsed": true,
    "deletable": true,
    "editable": true
   },
   "outputs": [],
   "source": [
    "model = Sequential()\n",
    "model.add(Convolution2D(1,    \n",
    "                        (3,    \n",
    "                        3),    \n",
    "                        input_shape=image.shape))"
   ]
  },
  {
   "cell_type": "code",
   "execution_count": null,
   "metadata": {
    "collapsed": false,
    "deletable": true,
    "editable": true
   },
   "outputs": [],
   "source": [
    "nice_image_printer(model, image)"
   ]
  },
  {
   "cell_type": "markdown",
   "metadata": {
    "deletable": true,
    "editable": true
   },
   "source": [
    "### Question 3"
   ]
  },
  {
   "cell_type": "markdown",
   "metadata": {
    "deletable": true,
    "editable": true
   },
   "source": [
    "### Why this image is different from previous one ?"
   ]
  },
  {
   "cell_type": "markdown",
   "metadata": {
    "deletable": true,
    "editable": true
   },
   "source": [
    "Answer"
   ]
  },
  {
   "cell_type": "markdown",
   "metadata": {
    "deletable": true,
    "editable": true
   },
   "source": [
    "## Increase the kernal size"
   ]
  },
  {
   "cell_type": "code",
   "execution_count": null,
   "metadata": {
    "collapsed": false,
    "deletable": true,
    "editable": true
   },
   "outputs": [],
   "source": [
    "# 15x15 kernel size\n",
    "model = Sequential()\n",
    "model.add(Convolution2D(1,    \n",
    "                        (15,    \n",
    "                        15),   \n",
    "                        input_shape=image.shape))\n",
    "\n",
    "nice_image_printer(model, image)"
   ]
  },
  {
   "cell_type": "markdown",
   "metadata": {
    "deletable": true,
    "editable": true
   },
   "source": [
    "## Adding a Relu Activation"
   ]
  },
  {
   "cell_type": "code",
   "execution_count": null,
   "metadata": {
    "collapsed": true,
    "deletable": true,
    "editable": true
   },
   "outputs": [],
   "source": [
    "model = Sequential()\n",
    "model.add(Convolution2D(1,    \n",
    "                        (3,    \n",
    "                        3),    \n",
    "                        input_shape=image.shape))\n",
    "# Lets add a new activation layer!\n",
    "model.add(Activation('relu'))\n",
    "\n"
   ]
  },
  {
   "cell_type": "code",
   "execution_count": null,
   "metadata": {
    "collapsed": false,
    "deletable": true,
    "editable": true
   },
   "outputs": [],
   "source": [
    "nice_image_printer(model, image)"
   ]
  },
  {
   "cell_type": "markdown",
   "metadata": {
    "deletable": true,
    "editable": true
   },
   "source": [
    "## Adding a Max pool After Relu"
   ]
  },
  {
   "cell_type": "code",
   "execution_count": null,
   "metadata": {
    "collapsed": false,
    "deletable": true,
    "editable": true
   },
   "outputs": [],
   "source": [
    "model = Sequential()\n",
    "model.add(Convolution2D(3,    \n",
    "                        (3,    \n",
    "                        3),    \n",
    "                        input_shape=image.shape))\n",
    "model.add(Activation('relu'))\n",
    "model.add(MaxPooling2D(pool_size=(5,5)))\n",
    "\n",
    "visualize_image(model, image)"
   ]
  },
  {
   "cell_type": "code",
   "execution_count": null,
   "metadata": {
    "collapsed": true,
    "deletable": true,
    "editable": true
   },
   "outputs": [],
   "source": []
  }
 ],
 "metadata": {
  "kernelspec": {
   "display_name": "Python 3",
   "language": "python",
   "name": "python3"
  },
  "language_info": {
   "codemirror_mode": {
    "name": "ipython",
    "version": 3
   },
   "file_extension": ".py",
   "mimetype": "text/x-python",
   "name": "python",
   "nbconvert_exporter": "python",
   "pygments_lexer": "ipython3",
   "version": "3.5.2"
  }
 },
 "nbformat": 4,
 "nbformat_minor": 2
}
