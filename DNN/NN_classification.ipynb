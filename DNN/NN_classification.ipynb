{
 "cells": [
  {
   "cell_type": "code",
   "execution_count": 1,
   "metadata": {
    "collapsed": false,
    "deletable": true,
    "editable": true
   },
   "outputs": [
    {
     "name": "stderr",
     "output_type": "stream",
     "text": [
      "Using TensorFlow backend.\n",
      "/home/user/myenv2/lib/python3.5/site-packages/sklearn/cross_validation.py:44: DeprecationWarning: This module was deprecated in version 0.18 in favor of the model_selection module into which all the refactored classes and functions are moved. Also note that the interface of the new CV iterators are different from that of this module. This module will be removed in 0.20.\n",
      "  \"This module will be removed in 0.20.\", DeprecationWarning)\n"
     ]
    }
   ],
   "source": [
    "import pandas as pd\n",
    "import numpy as np\n",
    "import keras\n",
    "from sklearn.cross_validation import train_test_split\n",
    "import numpy as np\n",
    "np.random.seed(20)\n",
    "from matplotlib import pyplot as plt\n",
    "import keras\n",
    "from keras.models import Sequential\n",
    "from keras.layers import Dense, Activation, BatchNormalization\n",
    "from keras.utils import to_categorical\n",
    "from keras.layers import Dropout"
   ]
  },
  {
   "cell_type": "code",
   "execution_count": 2,
   "metadata": {
    "collapsed": false,
    "deletable": true,
    "editable": true
   },
   "outputs": [],
   "source": [
    "data_csv = pd.read_csv('/home/user/Documents/NN_week1/CNAE-9.data',header=None)"
   ]
  },
  {
   "cell_type": "code",
   "execution_count": 3,
   "metadata": {
    "collapsed": false,
    "deletable": true,
    "editable": true
   },
   "outputs": [],
   "source": [
    "y,x = data_csv.iloc[:,0],data_csv.iloc[:,1:]\n",
    "x = np.array(x.astype('float32'))"
   ]
  },
  {
   "cell_type": "code",
   "execution_count": 4,
   "metadata": {
    "collapsed": false,
    "deletable": true,
    "editable": true
   },
   "outputs": [],
   "source": [
    "x_train,x_test,y_train,y_test = train_test_split(x,y,test_size=0.4,random_state=42)\n",
    "z = y_test\n",
    "y_test = to_categorical(y_test,num_classes=10)\n",
    "y_train = to_categorical(y_train,num_classes=10)"
   ]
  },
  {
   "cell_type": "code",
   "execution_count": 5,
   "metadata": {
    "collapsed": false,
    "deletable": true,
    "editable": true
   },
   "outputs": [],
   "source": [
    "nb_class = 10\n",
    "batch_size = 36\n",
    "n_epoch = 20"
   ]
  },
  {
   "cell_type": "code",
   "execution_count": 6,
   "metadata": {
    "collapsed": false,
    "deletable": true,
    "editable": true
   },
   "outputs": [],
   "source": [
    "def train_model(n):\n",
    "    model = Sequential()\n",
    "    model.add(Dense(512,input_shape=(856,),activation='relu'))\n",
    "    model.add(Dropout(0.2))\n",
    "    for i in range(0,n-1):\n",
    "        model.add(Dense(64,activation='relu'))\n",
    "        model.add(Dropout(0.2))\n",
    "    model.add(Dense(10,activation='softmax'))\n",
    "    model.summary()\n",
    "    return model"
   ]
  },
  {
   "cell_type": "code",
   "execution_count": 7,
   "metadata": {
    "collapsed": false,
    "deletable": true,
    "editable": true
   },
   "outputs": [
    {
     "name": "stdout",
     "output_type": "stream",
     "text": [
      "enter number of hidden layers : 4\n",
      "_________________________________________________________________\n",
      "Layer (type)                 Output Shape              Param #   \n",
      "=================================================================\n",
      "dense_1 (Dense)              (None, 512)               438784    \n",
      "_________________________________________________________________\n",
      "dropout_1 (Dropout)          (None, 512)               0         \n",
      "_________________________________________________________________\n",
      "dense_2 (Dense)              (None, 64)                32832     \n",
      "_________________________________________________________________\n",
      "dropout_2 (Dropout)          (None, 64)                0         \n",
      "_________________________________________________________________\n",
      "dense_3 (Dense)              (None, 64)                4160      \n",
      "_________________________________________________________________\n",
      "dropout_3 (Dropout)          (None, 64)                0         \n",
      "_________________________________________________________________\n",
      "dense_4 (Dense)              (None, 64)                4160      \n",
      "_________________________________________________________________\n",
      "dropout_4 (Dropout)          (None, 64)                0         \n",
      "_________________________________________________________________\n",
      "dense_5 (Dense)              (None, 10)                650       \n",
      "=================================================================\n",
      "Total params: 480,586\n",
      "Trainable params: 480,586\n",
      "Non-trainable params: 0\n",
      "_________________________________________________________________\n"
     ]
    }
   ],
   "source": [
    "n=input(\"enter number of hidden layers : \")\n",
    "model  = train_model(int(n))\n",
    "model.compile(optimizer='rmsprop',\n",
    "              loss='categorical_crossentropy',\n",
    "              metrics=['accuracy'])"
   ]
  },
  {
   "cell_type": "code",
   "execution_count": 8,
   "metadata": {
    "collapsed": false,
    "deletable": true,
    "editable": true
   },
   "outputs": [
    {
     "name": "stdout",
     "output_type": "stream",
     "text": [
      "Train on 518 samples, validate on 130 samples\n",
      "Epoch 1/20\n",
      "0s - loss: 2.1565 - acc: 0.2066 - val_loss: 1.8977 - val_acc: 0.5615\n",
      "Epoch 2/20\n",
      "0s - loss: 1.6658 - acc: 0.4826 - val_loss: 1.3056 - val_acc: 0.7077\n",
      "Epoch 3/20\n",
      "0s - loss: 1.1232 - acc: 0.7085 - val_loss: 0.7386 - val_acc: 0.9000\n",
      "Epoch 4/20\n",
      "0s - loss: 0.7464 - acc: 0.8185 - val_loss: 0.4577 - val_acc: 0.9077\n",
      "Epoch 5/20\n",
      "0s - loss: 0.4546 - acc: 0.8822 - val_loss: 0.3592 - val_acc: 0.8923\n",
      "Epoch 6/20\n",
      "0s - loss: 0.2973 - acc: 0.9266 - val_loss: 0.2839 - val_acc: 0.9077\n",
      "Epoch 7/20\n",
      "0s - loss: 0.1902 - acc: 0.9575 - val_loss: 0.2170 - val_acc: 0.9231\n",
      "Epoch 8/20\n",
      "0s - loss: 0.1593 - acc: 0.9614 - val_loss: 0.2538 - val_acc: 0.9077\n",
      "Epoch 9/20\n",
      "0s - loss: 0.0912 - acc: 0.9903 - val_loss: 0.2209 - val_acc: 0.9231\n",
      "Epoch 10/20\n",
      "0s - loss: 0.0691 - acc: 0.9865 - val_loss: 0.2307 - val_acc: 0.9385\n",
      "Epoch 11/20\n",
      "0s - loss: 0.0589 - acc: 0.9846 - val_loss: 0.2314 - val_acc: 0.9308\n",
      "Epoch 12/20\n",
      "0s - loss: 0.0485 - acc: 0.9903 - val_loss: 0.2268 - val_acc: 0.9308\n",
      "Epoch 13/20\n",
      "0s - loss: 0.0521 - acc: 0.9903 - val_loss: 0.2247 - val_acc: 0.9385\n",
      "Epoch 14/20\n",
      "0s - loss: 0.0361 - acc: 0.9884 - val_loss: 0.2443 - val_acc: 0.9231\n",
      "Epoch 15/20\n",
      "0s - loss: 0.0214 - acc: 0.9981 - val_loss: 0.2594 - val_acc: 0.9231\n",
      "Epoch 16/20\n",
      "0s - loss: 0.0200 - acc: 0.9961 - val_loss: 0.2800 - val_acc: 0.9308\n",
      "Epoch 17/20\n",
      "0s - loss: 0.0189 - acc: 0.9942 - val_loss: 0.3177 - val_acc: 0.9308\n",
      "Epoch 18/20\n",
      "0s - loss: 0.0176 - acc: 0.9981 - val_loss: 0.2503 - val_acc: 0.9385\n",
      "Epoch 19/20\n",
      "0s - loss: 0.0184 - acc: 0.9961 - val_loss: 0.3640 - val_acc: 0.9154\n",
      "Epoch 20/20\n",
      "0s - loss: 0.0090 - acc: 0.9981 - val_loss: 0.3447 - val_acc: 0.9308\n"
     ]
    }
   ],
   "source": [
    "hist = model.fit(x_train, y_train, batch_size=batch_size, epochs=n_epoch, verbose=2,validation_split=0.2)"
   ]
  },
  {
   "cell_type": "code",
   "execution_count": 9,
   "metadata": {
    "collapsed": false,
    "deletable": true,
    "editable": true
   },
   "outputs": [
    {
     "name": "stdout",
     "output_type": "stream",
     "text": [
      "test loss :  0.356111455195\n",
      "test accuracy :  0.9375\n"
     ]
    }
   ],
   "source": [
    "test_loss,test_acc = model.evaluate(x_test,y_test,batch_size=2,verbose=0)\n",
    "print(\"test loss : \",test_loss)\n",
    "print(\"test accuracy : \",test_acc)"
   ]
  },
  {
   "cell_type": "code",
   "execution_count": 10,
   "metadata": {
    "collapsed": false,
    "deletable": true,
    "editable": true
   },
   "outputs": [
    {
     "data": {
      "image/png": "[encoded data removed]",
      "text/plain": [
       "<matplotlib.figure.Figure at 0x7ff686fc2160>"
      ]
     },
     "metadata": {},
     "output_type": "display_data"
    }
   ],
   "source": [
    "plt.plot(hist.history['acc'])\n",
    "plt.plot(hist.history['val_acc'])\n",
    "plt.title('model accuracy')\n",
    "plt.ylabel('accuracy')\n",
    "plt.xlabel('epoch')\n",
    "plt.legend(['train', 'validation'], loc='upper left')\n",
    "plt.show()"
   ]
  },
  {
   "cell_type": "code",
   "execution_count": 11,
   "metadata": {
    "collapsed": false,
    "deletable": true,
    "editable": true
   },
   "outputs": [
    {
     "data": {
      "image/png": "[encoded data removed]",
      "text/plain": [
       "<matplotlib.figure.Figure at 0x7ff686f56dd8>"
      ]
     },
     "metadata": {},
     "output_type": "display_data"
    }
   ],
   "source": [
    "plt.plot(hist.history['loss'])\n",
    "plt.plot(hist.history['val_loss'])\n",
    "plt.title('model loss')\n",
    "plt.ylabel('loss')\n",
    "plt.xlabel('epoch')\n",
    "plt.legend(['train', 'validation'], loc='upper left')\n",
    "plt.axis\n",
    "plt.show()"
   ]
  },
  {
   "cell_type": "code",
   "execution_count": null,
   "metadata": {
    "collapsed": true
   },
   "outputs": [],
   "source": []
  }
 ],
 "metadata": {
  "kernelspec": {
   "display_name": "Python 3",
   "language": "python",
   "name": "python3"
  },
  "language_info": {
   "codemirror_mode": {
    "name": "ipython",
    "version": 3
   },
   "file_extension": ".py",
   "mimetype": "text/x-python",
   "name": "python",
   "nbconvert_exporter": "python",
   "pygments_lexer": "ipython3",
   "version": "3.5.2"
  }
 },
 "nbformat": 4,
 "nbformat_minor": 2
}
