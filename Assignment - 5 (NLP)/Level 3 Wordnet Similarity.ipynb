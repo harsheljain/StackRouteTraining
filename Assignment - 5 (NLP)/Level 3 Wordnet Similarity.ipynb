{
 "cells": [
  {
   "cell_type": "markdown",
   "metadata": {},
   "source": [
    "## Wordnet Similarity"
   ]
  },
  {
   "cell_type": "markdown",
   "metadata": {},
   "source": [
    "### Part - 1\n",
    "   \n",
    "    1. Find the top 5 occuring words(ignoring the stop words) and then find the words most similar to them. Use the extract given below.\n",
    "    \n",
    "    2. For any given word visualize how two words are similar"
   ]
  },
  {
   "cell_type": "markdown",
   "metadata": {},
   "source": [
    "~~~~\n",
    "The Supreme Court ruled last week in the case of Fane Lozman vs the City of Riviera Beach, Florida. They decided that Lozman’s 60-foot, two-story, motorless, rudderless floating home was not a boat or a vessel, and hence should not have been seized under maritime law and destroyed by the city.\n",
    "\n",
    "With the line between house and boat a little bit clearer, reader Steve asked us to clarify something else: “What defines a boat, versus a ship?”\n",
    "\n",
    "One of the quickest ways to reveal yourself as a landlubber is to refer to a ship as a boat, but there’s no absolute distinction between the two, and even experienced mariners rely on local custom and usage to differentiate them. \n",
    "\n",
    "Back in the Age of Sail, a ship was pretty well defined as a vessel with three or more square rigged masts. As different methods of power generation replaced wind and sail, the ships of old became more specifically known as “sailing ships,” and the usage of ship broadened to cover a wide, ill-defined variety of vessels. \n",
    "\n",
    "One thing that sets a ship apart from a boat is size. According the U.S. Naval Institute, a boat, generally speaking, is small enough to be carried aboard a larger vessel, and a vessel large enough to carry a smaller one is a ship. Or, as Steve says his Navy Lieutenant father put it to him, “You can put a boat on a ship, but you can’t put a ship on a boat.”\n",
    "\n",
    "Now, this Naval convention is a good rule of thumb most of the time, but there are a few exceptions, among both naval and civilian vessels. Some yachts, ferries, tug boats, fishing boats, police boats, etc. can carry small lifeboats or dinghies, but they usually don’t graduate to ship status because of that. On the other hand, a large container ship or the USS Cole can be carried aboard an even bigger ship without getting demoted to a boat. \n",
    "\n",
    "The U.S. Navy seems to want to have it both ways with their submarines. One component of each vessel’s official name is USS—that is, United States Ship—but seamen, the Naval Institute says, usually refer to submarines in general as boats, regardless of size. \n",
    "~~~~\n"
   ]
  },
  {
   "cell_type": "markdown",
   "metadata": {},
   "source": [
    "#### document text ####"
   ]
  },
  {
   "cell_type": "code",
   "execution_count": 2,
   "metadata": {
    "collapsed": true
   },
   "outputs": [],
   "source": [
    "document = \"The Supreme Court ruled last week in the case of Fane Lozman vs the City of Riviera Beach, Florida. They\\\n",
    "decided that Lozman’s 60-foot, two-story, motorless, rudderless floating home was not a boat or a vessel, and hence \\\n",
    "should not have been seized under maritime law and destroyed by the city. With the line between house and boat a little\\\n",
    "bit clearer, reader Steve asked us to clarify something else: “What defines a boat, versus a ship?”. One of the quickest \\\n",
    "ways to reveal yourself as a landlubber is to refer to a ship as a boat, but there’s no absolute distinction between the \\\n",
    "two, and even experienced mariners rely on local custom and usage to differentiate them. Back in the Age of Sail, a ship \\\n",
    "was pretty well defined as a vessel with three or more square rigged masts. As different methods of power generation\\\n",
    "replaced wind and sail, the ships of old became more specifically known as “sailing ships,” and the usage of ship\\\n",
    "broadened to cover a wide, ill-defined variety of vessels. One thing that sets a ship apart from a boat is size. According\\\n",
    "the U.S. Naval Institute, a boat, generally speaking, is small enough to be carried aboard a larger vessel, and a vessel \\\n",
    "large enough to carry a smaller one is a ship. Or, as Steve says his Navy Lieutenant father put it to him, “You can put\\\n",
    "a boat on a ship, but you can’t put a ship on a boat.” Now, this Naval convention is a good rule of thumb most of the time\\\n",
    ", but there are a few exceptions, among both naval and civilian vessels. Some yachts, ferries, tug boats, fishing boats,\\\n",
    "police boats, etc. can carry small lifeboats or dinghies, but they usually don’t graduate to ship status because of that.\\\n",
    "On the other hand, a large container ship or the USS Cole can be carried aboard an even bigger ship without getting \\\n",
    "demoted to a boat. The U.S. Navy seems to want to have it both ways with their submarines. One component of each vessel’s \\\n",
    "official name is USS—that is, United States Ship—but seamen, the Naval Institute says, usually refer to submarines in\\\n",
    "general as boats, regardless of size.\""
   ]
  },
  {
   "cell_type": "markdown",
   "metadata": {},
   "source": [
    "#### importing used modules ####"
   ]
  },
  {
   "cell_type": "code",
   "execution_count": 3,
   "metadata": {
    "collapsed": true
   },
   "outputs": [],
   "source": [
    "import nltk\n",
    "import random\n",
    "from nltk import word_tokenize\n",
    "from nltk.corpus import stopwords\n",
    "import matplotlib.pyplot as plt\n",
    "from nltk.corpus import wordnet"
   ]
  },
  {
   "cell_type": "code",
   "execution_count": 6,
   "metadata": {},
   "outputs": [
    {
     "name": "stdout",
     "output_type": "stream",
     "text": [
      "[('ship', 10), ('boat', 8), ('vessel', 4), ('naval', 4), ('one', 4)]\n"
     ]
    }
   ],
   "source": [
    "all_words = []\n",
    "\n",
    "# for removing stop words with special characters\n",
    "stop_words = stopwords.words(\"english\")\n",
    "charac = [',','.',':','?','\"',\"'\"]\n",
    "stop_words.extend(charac)\n",
    "\n",
    "words = word_tokenize(document)\n",
    "filtered_sentence = []\n",
    "\n",
    "for w in words:\n",
    "    if w not in stop_words:\n",
    "        filtered_sentence.append(w.lower())\n",
    "\n",
    "# using freqDist and selecting the top 5 most used words\n",
    "all_words = nltk.FreqDist(filtered_sentence)\n",
    "most_common = all_words.most_common(5)\n",
    "print(most_common)"
   ]
  },
  {
   "cell_type": "code",
   "execution_count": 9,
   "metadata": {},
   "outputs": [
    {
     "name": "stdout",
     "output_type": "stream",
     "text": [
      "['ship', 'boat', 'vessel', 'naval', 'one']\n"
     ]
    }
   ],
   "source": [
    "# selecting on the most common words \n",
    "most_common_list = []\n",
    "for i in range(len(most_common)):\n",
    "    most_common_list.append(most_common[i][0])\n",
    "print (most_common_list)    \n",
    "   "
   ]
  },
  {
   "cell_type": "markdown",
   "metadata": {},
   "source": [
    "#### Synset for synonmys ####"
   ]
  },
  {
   "cell_type": "code",
   "execution_count": 102,
   "metadata": {
    "scrolled": true
   },
   "outputs": [
    {
     "name": "stdout",
     "output_type": "stream",
     "text": [
      "ship : {'embark', 'transport', 'send', 'ship'}\n",
      "boat : {'boat', 'sauceboat', 'embark', 'gravy_boat', 'gravy_holder', 'ship', 'transport', 'send'}\n",
      "naval : {'boat', 'sauceboat', 'naval', 'embark', 'gravy_boat', 'gravy_holder', 'ship', 'transport', 'send'}\n",
      "one : {'unmatched', 'boat', 'naval', 'embark', 'matchless', 'ace', 'one', 'sauceboat', 'unrivaled', 'nonpareil', 'peerless', 'single', '1', 'one_and_only', 'I', 'gravy_boat', 'gravy_holder', 'ship', 'ane', 'transport', 'i', 'unity', 'unrivalled', 'unitary', 'unmatchable', 'send'}\n",
      "boats : {'unmatched', 'boat', 'naval', 'embark', 'matchless', 'ace', 'one', 'sauceboat', 'unrivaled', 'nonpareil', 'peerless', 'single', '1', 'one_and_only', 'I', 'gravy_boat', 'gravy_holder', 'ship', 'ane', 'transport', 'i', 'unity', 'unrivalled', 'unitary', 'unmatchable', 'send'}\n"
     ]
    }
   ],
   "source": [
    "synonyms = []\n",
    "for w in most_common:\n",
    "    for syn in wordnet.synsets(w[0]):\n",
    "        for l in syn.lemmas():\n",
    "            synonyms.append(l.name())\n",
    "    print(w[0],':' ,set(synonyms))"
   ]
  },
  {
   "cell_type": "markdown",
   "metadata": {},
   "source": [
    "#### Lemmatising the data ####"
   ]
  },
  {
   "cell_type": "code",
   "execution_count": 14,
   "metadata": {
    "collapsed": true
   },
   "outputs": [],
   "source": [
    "from nltk.stem import WordNetLemmatizer\n",
    "\n",
    "lemmatizer = WordNetLemmatizer()\n",
    "\n",
    "lemma_doc = []\n",
    "\n",
    "for i in range(0,len(filtered_sentence)):\n",
    "    lemma_doc.append(lemmatizer.lemmatize(filtered_sentence[i]))\n",
    "\n",
    "# removing the repeated words    \n",
    "lemma_doc = set(lemma_doc)"
   ]
  },
  {
   "cell_type": "markdown",
   "metadata": {},
   "source": [
    "#### finding the most similar word ####"
   ]
  },
  {
   "cell_type": "code",
   "execution_count": 20,
   "metadata": {
    "collapsed": true
   },
   "outputs": [],
   "source": [
    "word = wordnet.synsets('ship')\n",
    "name = []\n",
    "simi = []\n",
    "for w in lemma_doc:\n",
    "    w = wordnet.synsets(w)\n",
    "    if(len(w)==0):\n",
    "        continue\n",
    "    else:\n",
    "        # selecting words with similarity more than 70%\n",
    "        if((w[0].wup_similarity(word[0]))!=None and (w[0].wup_similarity(word[0]))>=( 0.7)):\n",
    "            name.append(w[0])\n",
    "            simi.append(w[0].wup_similarity(word[0]))\n",
    "            "
   ]
  },
  {
   "cell_type": "markdown",
   "metadata": {},
   "source": [
    "#### Visualize similarity of a words with its similiar words #### "
   ]
  },
  {
   "cell_type": "code",
   "execution_count": 21,
   "metadata": {},
   "outputs": [
    {
     "data": {
      "image/png": "[encoded data removed]",
      "text/plain": [
       "<matplotlib.figure.Figure at 0x7fc454d99eb8>"
      ]
     },
     "metadata": {},
     "output_type": "display_data"
    }
   ],
   "source": [
    "x = range(0,len(name))\n",
    "xTicks = name\n",
    "y = simi\n",
    "plt.xticks(x, xTicks)\n",
    "plt.xticks(x, xTicks, rotation=90) #writes strings with 45 degree angle\n",
    "plt.bar(x,y)\n",
    "plt.show()"
   ]
  },
  {
   "cell_type": "markdown",
   "metadata": {},
   "source": [
    "### visualizing hypernyms for a word ####"
   ]
  },
  {
   "cell_type": "code",
   "execution_count": 26,
   "metadata": {},
   "outputs": [
    {
     "data": {
      "image/png": "[encoded data removed]",
      "text/plain": [
       "<matplotlib.figure.Figure at 0x7fc4549bb3c8>"
      ]
     },
     "metadata": {},
     "output_type": "display_data"
    }
   ],
   "source": [
    "from nltk.corpus import wordnet as wn\n",
    "import networkx as nx\n",
    "import matplotlib.pyplot as plt\n",
    "\n",
    "def closure_graph(synset, fn):\n",
    "    seen = set()\n",
    "    graph = nx.DiGraph()\n",
    "\n",
    "    def recurse(s):\n",
    "        if not s in seen:\n",
    "            seen.add(s)\n",
    "            graph.add_node(s.name())\n",
    "            for s1 in fn(s):\n",
    "                graph.add_node(s1.name())\n",
    "                graph.add_edge(s.name(), s1.name())\n",
    "                recurse(s1)\n",
    "\n",
    "    recurse(synset)\n",
    "    return graph\n",
    "\n",
    "vs = wn.synsets('ship')[0]\n",
    "G = closure_graph(vs,lambda s: s.hypernyms())\n",
    "index = nx.betweenness_centrality(G)\n",
    "plt.rc('figure', figsize=(12, 7))\n",
    "node_size = [index[n]*1000 for n in G]\n",
    "pos = nx.spring_layout(G)\n",
    "nx.draw_networkx(G, pos, node_size = node_size, edge_color = 'r', alpha = .3, linewidths = 0)\n",
    "plt.show()"
   ]
  },
  {
   "cell_type": "code",
   "execution_count": null,
   "metadata": {
    "collapsed": true
   },
   "outputs": [],
   "source": []
  }
 ],
 "metadata": {
  "kernelspec": {
   "display_name": "Python 3",
   "language": "python",
   "name": "python3"
  },
  "language_info": {
   "codemirror_mode": {
    "name": "ipython",
    "version": 3
   },
   "file_extension": ".py",
   "mimetype": "text/x-python",
   "name": "python",
   "nbconvert_exporter": "python",
   "pygments_lexer": "ipython3",
   "version": "3.5.2"
  }
 },
 "nbformat": 4,
 "nbformat_minor": 2
}
