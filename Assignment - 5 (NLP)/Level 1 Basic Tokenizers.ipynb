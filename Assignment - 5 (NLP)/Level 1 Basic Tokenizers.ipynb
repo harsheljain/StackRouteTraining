{
 "cells": [
  {
   "cell_type": "markdown",
   "metadata": {},
   "source": [
    "## UK Government Content Writing Criteria\n",
    "\n",
    "UK Government has a certain checklist for the content writers. They want the content writers to be more specific in the details they want to convey to the users. UK Government basically believes that when you write more people understand less. So they came up with a simple solution.\n",
    "\n",
    "1. There can be no more than 15 Sentences.\n",
    "2. And each sentence should have less than 15 words.\n",
    "3. And each word should be less than 15 words.\n",
    "\n",
    "Help the UK Government writing a detector which checks for the above criteria. \n",
    "\n",
    "Write three seperate detectors so that the content writer knows where exactly did he make the mistake"
   ]
  },
  {
   "cell_type": "markdown",
   "metadata": {},
   "source": [
    "So here is Mr. James Wilson who wrote about Elon Musk. Here is the following content.\n",
    "\n",
    "~~~~ \n",
    "Musk was born on June 28, 1971, in Pretoria, Gauteng, South Africa,[27] the son of Maye Musk (née Haldeman), a model and dietician from Regina, Saskatchewan, Canada;[28] and Errol Musk, a South African electromechanical engineer, pilot and sailor. He has a younger brother, Kimbal (born 1972), and a younger sister, Tosca (born 1974).[28][29][30][31] His paternal grandmother was British, and he also has Pennsylvania Dutch ancestry,[32][33] and his maternal grandfather was American, from Minnesota.[34] After his parents divorced in 1980, Musk lived mostly with his father in the suburbs of Pretoria.[32]\n",
    "\n",
    "During his childhood he had an interest in reading and often did so for hours at a time.[35]\n",
    "\n",
    "At What age did Musk got interested in computing? At age 10, he developed an interest in computing with the Commodore VIC-20.[36] He taught himself computer programming at the age of 12, sold the code for a BASIC-based video game he created called Blastar, to a magazine called PC and Office Technology, for approximately $500. [37][38] A web version of the game is available online.[37][39]\n",
    "\n",
    "Musk was severely bullied throughout his childhood, and was once hospitalized when a group of boys threw him down a flight of stairs and then beat him until he lost consciousness.[40]\n",
    "\n",
    "Musk was initially educated at private schools, attending the English-speaking Waterkloof House Preparatory School. \n",
    "\n",
    "Mr. Singh helped Musk during his initial days when he was severely bullied during his childhood.\n",
    "\n",
    "Musk later graduated from Pretoria Boys High School and moved to Canada in June 1989, just before his 18th birthday,[41] after obtaining Canadian citizenship through his Canadian-born mother.[42][43] Although at the time Musk had to register to become a Canadian citizen, Bill C-37, which came into law in April of 2009, effectively made his Canadian citizenship retroactive to his birth since he was born in the first generation abroad to a Canadian-born mother. Therefore, with the law change, he is considered to have always been a Canadian citizen by birth.\n",
    "~~~~\n"
   ]
  },
  {
   "cell_type": "markdown",
   "metadata": {},
   "source": [
    "#### useful modules ####"
   ]
  },
  {
   "cell_type": "code",
   "execution_count": 15,
   "metadata": {
    "collapsed": true
   },
   "outputs": [],
   "source": [
    "from nltk.tokenize import sent_tokenize\n",
    "from nltk.tokenize import word_tokenize"
   ]
  },
  {
   "cell_type": "markdown",
   "metadata": {},
   "source": [
    "#### Document ####"
   ]
  },
  {
   "cell_type": "code",
   "execution_count": 16,
   "metadata": {
    "collapsed": true
   },
   "outputs": [],
   "source": [
    "document1 = \"Musk was born on June 28, 1971, in Pretoria, Gauteng, South Africa,[27]\\\n",
    "the son of Maye Musk (née Haldeman), a model and dietician from Regina, Saskatchewan,\\\n",
    "Canada;[28] and Errol Musk, a South African electromechanical engineer, pilot and sailor.\\\n",
    "He has a younger brother, Kimbal (born 1972), and a younger sister, Tosca (born 1974).[28][29][30][31] \\\n",
    "His paternal grandmother was British, and he also has Pennsylvania Dutch ancestry,[32][33] and \\\n",
    "his maternal grandfather was American, from Minnesota.[34] After his parents divorced in 1980,\\\n",
    "Musk lived mostly with his father in the suburbs of Pretoria.[32]\\\n",
    "During his childhood he had an interest in reading and often did so for hours at a time.[35]\\\n",
    "At What age did Musk got interested in computing? At age 10, he developed an interest in computing with\\\n",
    "the Commodore VIC-20.[36] He taught himself computer programming at the age of 12, sold the code for a \\\n",
    "BASIC-based video game he created called Blastar, to a magazine called PC and Office Technology, for\\\n",
    "approximately $500. [37][38] A web version of the game is available online.[37][39]\\\n",
    "Musk was severely bullied throughout his childhood, and was once hospitalized when a group\\\n",
    "of boys threw him down a flight of stairs and then beat him until he lost consciousness.[40]\\\n",
    "Musk was initially educated at private schools, attending the English-speaking Waterkloof House Preparatory School. \\\n",
    "Mr. Singh helped Musk during his initial days when he was severely bullied during his childhood.\\\n",
    "Musk later graduated from Pretoria Boys High School and moved to Canada in June 1989, just before \\\n",
    "his 18th birthday,[41] after obtaining Canadian citizenship through his Canadian-born mother.[42][43] \\\n",
    "Although at the time Musk had to register to become a Canadian citizen, Bill C-37, which came into law\\\n",
    "in April of 2009, effectively made his Canadian citizenship retroactive to his birth since he was born \\\n",
    "in the first generation abroad to a Canadian-born mother. Therefore, with the law change, he is considered\\\n",
    "to have always been a Canadian citizen by birth.\""
   ]
  },
  {
   "cell_type": "code",
   "execution_count": 17,
   "metadata": {},
   "outputs": [
    {
     "name": "stdout",
     "output_type": "stream",
     "text": [
      "Criteria 1 satisfied, with total sentences:  13\n"
     ]
    }
   ],
   "source": [
    "# Function to detect first criteria\n",
    "\n",
    "sentence1 = sent_tokenize(document1)\n",
    "length_sentence = len(sentence1)\n",
    "if (length_sentence < 15):\n",
    "    print(\"Criteria 1 satisfied, with total sentences: \",length_sentence)\n",
    "    \n"
   ]
  },
  {
   "cell_type": "code",
   "execution_count": 18,
   "metadata": {},
   "outputs": [
    {
     "name": "stdout",
     "output_type": "stream",
     "text": [
      "Number of words in 1 sentence  is :79\n",
      "Number of words in 2 sentence  is :42\n",
      "Number of words in 3 sentence  is :22\n",
      "Number of words in 4 sentence  is :22\n",
      "Number of words in 5 sentence  is :13\n",
      "Number of words in 6 sentence  is :14\n",
      "Number of words in 7 sentence  is :40\n",
      "Number of words in 8 sentence  is :16\n",
      "Number of words in 9 sentence  is :38\n",
      "Number of words in 10 sentence  is :19\n",
      "Number of words in 11 sentence  is :49\n",
      "Number of words in 12 sentence  is :54\n",
      "Number of words in 13 sentence  is :19\n",
      "Criteria 2 does not satisfy\n"
     ]
    }
   ],
   "source": [
    "# Function to detect second criteria\n",
    "i = 0\n",
    "maxi = 0\n",
    "for each_sentence in sentence1:\n",
    "    words_in_each_sentence = word_tokenize(each_sentence)\n",
    "    length_words_sentence = len(words_in_each_sentence)\n",
    "    i += 1\n",
    "    print (\"Number of words in \" + str(i) +\" sentence  is :\" +str(length_words_sentence))\n",
    "    if (maxi < length_words_sentence):\n",
    "        maxi = length_words_sentence\n",
    "\n",
    "if maxi > 15:\n",
    "    print(\"Criteria 2 does not satisfy\")\n",
    "else:\n",
    "    print(\"Criteria 2 satisfies\")\n",
    "    \n"
   ]
  },
  {
   "cell_type": "code",
   "execution_count": 19,
   "metadata": {},
   "outputs": [
    {
     "name": "stdout",
     "output_type": "stream",
     "text": [
      "Criteria 3 does not satisfy, with maximum character:  17\n"
     ]
    }
   ],
   "source": [
    "# Function to detect third criteria\n",
    "maximum = 0\n",
    "for each_sentence in sentence1:\n",
    "    words_in_each_sentence = word_tokenize(each_sentence)\n",
    "    \n",
    "    for i in words_in_each_sentence:\n",
    "        \n",
    "        length_words = len(i)\n",
    "       \n",
    "        if maximum < length_words:\n",
    "            maximum = length_words\n",
    "    \n",
    "if maximum > 15:\n",
    "    print (\"Criteria 3 does not satisfy, with maximum character: \", maximum)\n",
    "    \n",
    "else:\n",
    "    print(\"Criteria 3 satisfied\")"
   ]
  },
  {
   "cell_type": "markdown",
   "metadata": {},
   "source": [
    "Mr. Wilson was not really satisfied with the write up. So he edited the few portions of the document and has resent the document for validation.\n",
    "\n",
    "~~~~ \n",
    "Musk was born on June 28, 1971, in Pretoria, Gauteng, South Africa,[27] the son of Maye Musk (née Haldeman), a model and dietician from Regina, Saskatchewan, Canada;[28] and Errol Musk, a South African electromechanical engineer, pilot and sailor. He has a younger brother, Kimbal (born 1972), and a younger sister, Tosca (born 1974).[28][29][30][31] His paternal grandmother was British, and he also has Pennsylvania Dutch ancestry,[32][33] and his maternal grandfather was American, from Minnesota.[34] After his parents divorced in 1980, Musk lived mostly with his father in the suburbs of Pretoria.[32]\n",
    "\n",
    "During his childhood he had an interest in reading and often did so for hours at a time.[35]\n",
    "\n",
    "At What age did Musk got interested in computing?At age 10, he developed an interest in computing with the Commodore VIC-20.[36] He taught himself computer programming at the age of 12, sold the code for a BASIC-based video game he created called Blastar, to a magazine called PC and Office Technology, for approximately $500. [37][38] A web version of the game is available online.[37][39]\n",
    "\n",
    "Musk was severely bullied throughout his childhood, and was once hospitalized when a group of boys threw him down a flight of stairs and then beat him until he lost consciousness.[40]\n",
    "\n",
    "Musk was initially educated at private schools, attending the English-speaking Waterkloof House Preparatory School. \n",
    "\n",
    "Mr. Sing helped Musk during his initial days when he was severely bullied during his childhood.\n",
    "\n",
    "Musk later graduated from Pretoria Boys High School and moved to Canada in June 1989, just before his 18th birthday,[41] after obtaining Canadian citizenship through his Canadian-born mother.[42][43] Although at the time Musk had to register to become a Canadian citizen, Bill C-37, which came into law in April of 2009, effectively made his Canadian citizenship retroactive to his birth since he was born in the first generation abroad to a Canadian-born mother. Therefore, with the law change, he is considered to have always been a Canadian citizen by birth.\n",
    "~~~~\n",
    "\n",
    "#### Detect the content sent by Mr. Wilson. ####\n",
    "\n",
    "#### Also spot the differences between the content posted now and the content posted earlier. ####\n",
    "\n"
   ]
  },
  {
   "cell_type": "code",
   "execution_count": 20,
   "metadata": {
    "collapsed": true
   },
   "outputs": [],
   "source": [
    "document2 = \"Musk was born on June 28, 1971, in Pretoria, Gauteng, South Africa,[27] the son of Maye Musk (née Haldeman),\\\n",
    "a model and dietician from Regina, Saskatchewan, Canada;[28] and Errol Musk, a South African electromechanical\\\n",
    "engineer, pilot and sailor. He has a younger brother, Kimbal (born 1972), and a younger sister, \\\n",
    "Tosca (born 1974).[28][29][30][31] His paternal grandmother was British, and he also has Pennsylvania Dutch \\\n",
    "ancestry,[32][33] and his maternal grandfather was American, from Minnesota.[34] After his parents divorced in \\\n",
    "1980, Musk lived mostly with his father in the suburbs of Pretoria.[32]\\\n",
    "During his childhood he had an interest in reading and often did so for hours at a time.[35]\\\n",
    "At What age did Musk got interested in computing?At age 10, he developed an interest in computing with the \\\n",
    "Commodore VIC-20.[36] He taught himself computer programming at the age of 12, sold the code for a BASIC-based \\\n",
    "video game he created called Blastar, to a magazine called PC and Office Technology, for approximately $500. [37][38]\\\n",
    "A web version of the game is available online.[37][39]\\\n",
    "Musk was severely bullied throughout his childhood, and was once hospitalized when a group of boys threw him down a \\\n",
    "flight of stairs and then beat him until he lost consciousness.[40]\\\n",
    "Musk was initially educated at private schools, attending the English-speaking Waterkloof House Preparatory School. \\\n",
    "Mr. Sing helped Musk during his initial days when he was severely bullied during his childhood.\\\n",
    "Musk later graduated from Pretoria Boys High School and moved to Canada in June 1989, just before his 18th birthday,[41]\\\n",
    "after obtaining Canadian citizenship through his Canadian-born mother.[42][43] Although at the time Musk had to register\\\n",
    "to become a Canadian citizen, Bill C-37, which came into law in April of 2009, effectively made his Canadian citizenship \\\n",
    "retroactive to his birth since he was born in the first generation abroad to a Canadian-born mother. Therefore, with the\\\n",
    "law change, he is considered to have always been a Canadian citizen by birth.\""
   ]
  },
  {
   "cell_type": "code",
   "execution_count": 21,
   "metadata": {},
   "outputs": [
    {
     "name": "stdout",
     "output_type": "stream",
     "text": [
      "Criteria 1 satisfied, with total sentences:  14\n"
     ]
    }
   ],
   "source": [
    "# Use the function created earlier to detect the first criteria\n",
    "sentence2 = sent_tokenize(document2)\n",
    "length_sentence = len(sentence2)\n",
    "if (length_sentence < 15):\n",
    "    print(\"Criteria 1 satisfied, with total sentences: \",length_sentence)"
   ]
  },
  {
   "cell_type": "code",
   "execution_count": 22,
   "metadata": {},
   "outputs": [
    {
     "name": "stdout",
     "output_type": "stream",
     "text": [
      "Number of words in 1 sentence  is :57\n",
      "Number of words in 2 sentence  is :23\n",
      "Number of words in 3 sentence  is :42\n",
      "Number of words in 4 sentence  is :22\n",
      "Number of words in 5 sentence  is :22\n",
      "Number of words in 6 sentence  is :28\n",
      "Number of words in 7 sentence  is :41\n",
      "Number of words in 8 sentence  is :16\n",
      "Number of words in 9 sentence  is :39\n",
      "Number of words in 10 sentence  is :19\n",
      "Number of words in 11 sentence  is :2\n",
      "Number of words in 12 sentence  is :48\n",
      "Number of words in 13 sentence  is :54\n",
      "Number of words in 14 sentence  is :19\n",
      "Criteria 2 does not satisfy\n"
     ]
    }
   ],
   "source": [
    "# Use the function created earlier to detect the second criteria\n",
    "i = 0\n",
    "maxi = 0\n",
    "for each_sentence in sentence2:\n",
    "    words_in_each_sentence = word_tokenize(each_sentence)\n",
    "    length_words_sentence = len(words_in_each_sentence)\n",
    "    i += 1\n",
    "    print (\"Number of words in \" + str(i) +\" sentence  is :\" +str(length_words_sentence))\n",
    "    if (maxi < length_words_sentence):\n",
    "        maxi = length_words_sentence\n",
    "\n",
    "if maxi > 15:\n",
    "    print(\"Criteria 2 does not satisfy\")\n",
    "else:\n",
    "    print(\"Criteria 2 satisfies\")\n",
    "    \n"
   ]
  },
  {
   "cell_type": "code",
   "execution_count": 24,
   "metadata": {},
   "outputs": [
    {
     "name": "stdout",
     "output_type": "stream",
     "text": [
      "Criteria 3 does not satisfy, with maximum character:  17\n"
     ]
    }
   ],
   "source": [
    "# Use the function created earlier to detect the third critera\n",
    "maximum = 0\n",
    "for each_sentence in sentence1:\n",
    "    words_in_each_sentence = word_tokenize(each_sentence)\n",
    "    \n",
    "    for i in words_in_each_sentence:\n",
    "        \n",
    "        length_words = len(i)\n",
    "       \n",
    "        if maximum < length_words:\n",
    "            maximum = length_words\n",
    "    \n",
    "if maximum > 15:\n",
    "    print (\"Criteria 3 does not satisfy, with maximum character: \", maximum)\n",
    "    \n",
    "else:\n",
    "    print(\"Criteria 3 satisfied\")"
   ]
  }
 ],
 "metadata": {
  "kernelspec": {
   "display_name": "Python 3",
   "language": "python",
   "name": "python3"
  },
  "language_info": {
   "codemirror_mode": {
    "name": "ipython",
    "version": 3
   },
   "file_extension": ".py",
   "mimetype": "text/x-python",
   "name": "python",
   "nbconvert_exporter": "python",
   "pygments_lexer": "ipython3",
   "version": "3.5.2"
  }
 },
 "nbformat": 4,
 "nbformat_minor": 2
}
