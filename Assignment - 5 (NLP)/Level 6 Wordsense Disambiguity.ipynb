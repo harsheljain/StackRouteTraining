{
 "cells": [
  {
   "cell_type": "markdown",
   "metadata": {},
   "source": [
    "### Word Sense Disambiguity"
   ]
  },
  {
   "cell_type": "markdown",
   "metadata": {},
   "source": [
    "Given the following sentences:\n",
    "\n",
    "    The agent will book the to the show for the entire family.\n",
    "    But you can generally book tickets online.\n",
    "    When you book tickets online they provide you with a book of stamps\n",
    "    \n",
    "If you could see the above sentences the word book is used in different context. In first two sentences the word book(verb) refers to the meaning 'reserve' while in the second portion of the third sentence book(noun) refers to a physical entity."
   ]
  },
  {
   "cell_type": "markdown",
   "metadata": {},
   "source": [
    "## Part - 1\n",
    "\n",
    "    Use the Lesk Module to find the similar words of the word *book* using the above sentences. Record your observations.\n",
    "    \n",
    "## Part - 2\n",
    "\n",
    "Tag sentences using Brill Tagger.\n",
    "\n",
    "### Brill Tagger\n",
    "\n",
    "The BrillTagger class is a **transformation-based tagger**. The BrillTagger class uses a series\n",
    "of rules to correct the results of an initial tagger. These rules are scored based on how many\n",
    "errors they correct minus the number of new errors they produce.\n",
    "\n",
    "The idea is simple Brill Tagger tries to correct the mistake made by the inital tagger. Brill tagger inputs an initial tagger and the templates which autmatically tells to create new rules based on the Training Set.\n",
    "\n",
    "**Recommended Steps:**\n",
    "\n",
    "1. Initially tag the sentence using POS Tagger. Then observe the POS tags for the word book in different context\n",
    "2. Then create a tagged_sentence using the POS Tagger correcting it with the mistakes it made.\n",
    "3. Now create a Brill Tagger using an initial tagger (POS) and pass templates(rules) to it.\n",
    "4. Train the Brill Tagger using the Tagged Sentence\n",
    "5. Test the Brill Tagger on the following sentences:\n",
    "       > \"I bought this book from Kerala\"\n",
    "       > \"He will book tickets to Kerala\"\n",
    "       \n",
    "## Part - 3\n",
    "\n",
    "    Perform Part-1 again but passing the POS tags produced by the Brill Tagger.\n",
    "    "
   ]
  },
  {
   "cell_type": "markdown",
   "metadata": {},
   "source": []
  },
  {
   "cell_type": "code",
   "execution_count": 1,
   "metadata": {
    "collapsed": true
   },
   "outputs": [],
   "source": [
    "import nltk\n",
    "import re\n",
    "from nltk import word_tokenize\n",
    "from nltk.corpus import stopwords\n",
    "from nltk.corpus import state_union\n",
    "from nltk.tokenize import word_tokenize\n",
    "from nltk.tokenize import sent_tokenize\n",
    "from nltk.tokenize import wordpunct_tokenize\n",
    "from nltk.corpus import brown\n",
    "from nltk.tag import pos_tag, map_tag\n",
    "\n",
    "# Regex tagger\n",
    "from nltk.tag import RegexpTagger\n",
    "#from nltk.tag import UnigramTagger\n",
    "\n",
    "#brill tagger\n",
    "from nltk.tag.brill import *\n",
    "from nltk.tag import brill\n",
    "from nltk import brill_trainer\n",
    "#from nltk.tag.simplify import simplify_wsj_tag"
   ]
  },
  {
   "cell_type": "code",
   "execution_count": 2,
   "metadata": {},
   "outputs": [],
   "source": [
    "sent_1 = 'The agent will book the to the show for the entire family.'\n",
    "sent_1 = word_tokenize(sent_1)\n",
    "sent_2 = 'But you can generally book tickets online.'\n",
    "sent_2 = word_tokenize(sent_2)\n",
    "sent_3 = 'When you book tickets online they provide you with a book of stamps.'\n",
    "sent_3 = word_tokenize(sent_3)\n"
   ]
  },
  {
   "cell_type": "markdown",
   "metadata": {},
   "source": [
    "# Part - 1 #"
   ]
  },
  {
   "cell_type": "code",
   "execution_count": 3,
   "metadata": {},
   "outputs": [
    {
     "name": "stdout",
     "output_type": "stream",
     "text": [
      "Synset('koran.n.01')\n",
      "Synset('script.n.01')\n",
      "Synset('book.n.11')\n"
     ]
    }
   ],
   "source": [
    "from nltk.wsd import lesk\n",
    "\n",
    "ambiguous = 'book'\n",
    "\n",
    "# Using lesk module to find synset\n",
    "\n",
    "m1 = lesk(sent_1, ambiguous)\n",
    "m2 = lesk(sent_2, ambiguous)\n",
    "m3 = lesk(sent_3, ambiguous)\n",
    "print (m1)\n",
    "print (m2)\n",
    "print (m3)"
   ]
  },
  {
   "cell_type": "markdown",
   "metadata": {},
   "source": [
    "# Part - 2 #"
   ]
  },
  {
   "cell_type": "code",
   "execution_count": 36,
   "metadata": {},
   "outputs": [],
   "source": [
    "sent1 = \"I bought this book from Kerala\"\n",
    "sent2 = \"He will book tickets to Kerala\"\n",
    "\n",
    "token_1 = word_tokenize(sent1)\n",
    "token_2 = word_tokenize(sent2)\n",
    "\n",
    "def tok(sen):\n",
    "    tagged = []\n",
    "    words = nltk.word_tokenize(sen)\n",
    "    tagged.append(nltk.pos_tag(words))\n",
    "    return tagged\n",
    "\n",
    "\n"
   ]
  },
  {
   "cell_type": "markdown",
   "metadata": {},
   "source": [
    "####  POS tag output, book is treated as a noun ####"
   ]
  },
  {
   "cell_type": "code",
   "execution_count": 37,
   "metadata": {},
   "outputs": [
    {
     "name": "stdout",
     "output_type": "stream",
     "text": [
      "[[('I', 'PRP'), ('bought', 'VBD'), ('this', 'DT'), ('book', 'NN'), ('from', 'IN'), ('Kerala', 'NNP')]]\n",
      "[[('He', 'PRP'), ('will', 'MD'), ('book', 'NN'), ('tickets', 'NNS'), ('to', 'TO'), ('Kerala', 'VB')]]\n"
     ]
    }
   ],
   "source": [
    "token_sent1 = tok(sent1)\n",
    "token_sent2 = tok(sent2)\n",
    "print (token_sent1)\n",
    "print (token_sent2)"
   ]
  },
  {
   "cell_type": "markdown",
   "metadata": {},
   "source": [
    "####  Corrected POS tag ####"
   ]
  },
  {
   "cell_type": "code",
   "execution_count": 38,
   "metadata": {
    "collapsed": true
   },
   "outputs": [],
   "source": [
    "corrected_pos = [[('I', 'PRP'),\n",
    "      ('will', 'VB'), \n",
    "      ('book', 'VB' ),\n",
    "      ('a', 'DT'),\n",
    "      ('ticket', 'NN'),\n",
    "      ('today', 'NN' ),\n",
    "      ('.', 'PUNCT'),\n",
    "      ('The', 'DT'),\n",
    "      ('Amazon', 'NN'),\n",
    "      ('Books', 'NNS'),\n",
    "      ('Store', 'NN'),\n",
    "      ('offers', 'NNS'),\n",
    "      ('you', 'PRP'),\n",
    "      ('millions', 'NNS'),\n",
    "      ('of','IN'),\n",
    "      ('titles', 'NNS'),\n",
    "      ('.', 'PUNCT'),]] "
   ]
  },
  {
   "cell_type": "markdown",
   "metadata": {},
   "source": [
    "#### File with corrected training data ####"
   ]
  },
  {
   "cell_type": "code",
   "execution_count": 39,
   "metadata": {},
   "outputs": [],
   "source": [
    "from nltk.corpus.reader import TaggedCorpusReader\n",
    "malay_tagged = TaggedCorpusReader('.', 'train.txt', sep=\"\\\\\")\n",
    "p = list(malay_tagged.tagged_sents())\n"
   ]
  },
  {
   "cell_type": "markdown",
   "metadata": {},
   "source": [
    "#### Conditional exponential classifier using pickle ####"
   ]
  },
  {
   "cell_type": "code",
   "execution_count": 40,
   "metadata": {},
   "outputs": [],
   "source": [
    "from nltk.data import load\n",
    "tagdict = load('taggers/maxent_treebank_pos_tagger/english.pickle')"
   ]
  },
  {
   "cell_type": "markdown",
   "metadata": {},
   "source": [
    "####  The Brill tagger ####"
   ]
  },
  {
   "cell_type": "code",
   "execution_count": 41,
   "metadata": {
    "collapsed": true
   },
   "outputs": [],
   "source": [
    "def train_brill_tag(train_data):\n",
    "   \n",
    "    # Templates for checking the pos \n",
    "    templates = [\n",
    "        brill.Template(brill.Pos([-1])),\n",
    "        brill.Template(brill.Pos([1])),\n",
    "        brill.Template(brill.Pos([-2])),\n",
    "        brill.Template(brill.Pos([2])),\n",
    "        brill.Template(brill.Pos([-2, -1])),\n",
    "        brill.Template(brill.Pos([1, 2])),\n",
    "        brill.Template(brill.Pos([-3, -2, -1])),\n",
    "        brill.Template(brill.Pos([1, 2, 3])),\n",
    "        brill.Template(brill.Pos([-1]), brill.Pos([1])),\n",
    "        brill.Template(brill.Word([-1])),\n",
    "        brill.Template(brill.Word([1])),\n",
    "        brill.Template(brill.Word([-2])),\n",
    "        brill.Template(brill.Word([2])),\n",
    "        brill.Template(brill.Word([-2, -1])),\n",
    "        brill.Template(brill.Word([1, 2])),\n",
    "        brill.Template(brill.Word([-3, -2, -1])),\n",
    "        brill.Template(brill.Word([1, 2, 3])),\n",
    "        brill.Template(brill.Word([-1]), brill.Word([1]))]\n",
    "     \n",
    "        \n",
    "    trainer = brill_trainer.BrillTaggerTrainer(tagdict, templates = templates, trace = 3)\n",
    "    brill_tagger = trainer.train(train_data, max_rules = 10)\n",
    "    return brill_tagger"
   ]
  },
  {
   "cell_type": "markdown",
   "metadata": {},
   "source": [
    "#### POS using brill tagger ###"
   ]
  },
  {
   "cell_type": "markdown",
   "metadata": {},
   "source": [
    "We get the rules using tempalated "
   ]
  },
  {
   "cell_type": "code",
   "execution_count": 42,
   "metadata": {},
   "outputs": [
    {
     "name": "stdout",
     "output_type": "stream",
     "text": [
      "TBL train (fast) (seqs: 1; tokens: 58; tpls: 18; min score: 2; min acc: None)\n",
      "Finding initial useful rules...\n",
      "    Found 565 useful rules.\n",
      "\n",
      "           B      |\n",
      "   S   F   r   O  |        Score = Fixed - Broken\n",
      "   c   i   o   t  |  R     Fixed = num tags changed incorrect -> correct\n",
      "   o   x   k   h  |  u     Broken = num tags changed correct -> incorrect\n",
      "   r   e   e   e  |  l     Other = num tags changed incorrect -> incorrect\n",
      "   e   d   n   r  |  e\n",
      "------------------+-------------------------------------------------------\n",
      "   5   5   0   0  | .->PUNCT if Pos:NN@[-2,-1]\n",
      "   4   4   0   1  | NNP->NN if Pos:DT@[-3,-2,-1]\n",
      "   3   3   0   0  | IN->ADP if Pos:NN@[-1]\n",
      "   3   3   0   0  | MD->VB if Pos:PRP@[-1]\n",
      "   2   2   0   0  | VBP->VB if Pos:PRP@[-1]\n",
      "   2   2   0   0  | DT->DET if Pos:ADP@[2]\n"
     ]
    }
   ],
   "source": [
    "mt = train_brill_tag(p)    \n"
   ]
  },
  {
   "cell_type": "markdown",
   "metadata": {},
   "source": [
    "sent_1 = 'The agent will book the to the show for the entire family.'"
   ]
  },
  {
   "cell_type": "code",
   "execution_count": 43,
   "metadata": {},
   "outputs": [
    {
     "name": "stdout",
     "output_type": "stream",
     "text": [
      "[('The', 'DT'), ('agent', 'NN'), ('will', 'MD'), ('book', 'VB'), ('the', 'DT'), ('to', 'TO'), ('the', 'DET'), ('show', 'NN'), ('for', 'ADP'), ('the', 'DT'), ('entire', 'JJ'), ('family', 'NN'), ('.', 'PUNCT')]\n"
     ]
    }
   ],
   "source": [
    "\n",
    "print(mt.tag(sent_1))"
   ]
  },
  {
   "cell_type": "markdown",
   "metadata": {},
   "source": [
    "sent_2 = 'But you can generally book tickets online.'"
   ]
  },
  {
   "cell_type": "code",
   "execution_count": 44,
   "metadata": {},
   "outputs": [
    {
     "name": "stdout",
     "output_type": "stream",
     "text": [
      "[('But', 'CC'), ('you', 'PRP'), ('can', 'VB'), ('generally', 'RB'), ('book', 'VB'), ('tickets', 'NNS'), ('online', 'NN'), ('.', 'PUNCT')]\n"
     ]
    }
   ],
   "source": [
    "print(mt.tag(sent_2))"
   ]
  },
  {
   "cell_type": "markdown",
   "metadata": {},
   "source": [
    "sent_3 = When you book tickets online they provide you with a book of stamps"
   ]
  },
  {
   "cell_type": "code",
   "execution_count": 45,
   "metadata": {},
   "outputs": [
    {
     "name": "stdout",
     "output_type": "stream",
     "text": [
      "[('When', 'WRB'), ('you', 'PRP'), ('book', 'VB'), ('tickets', 'NNS'), ('online', 'VBP'), ('they', 'PRP'), ('provide', 'VB'), ('you', 'PRP'), ('with', 'IN'), ('a', 'DET'), ('book', 'NN'), ('of', 'ADP'), ('stamps', 'NNS'), ('.', '.')]\n"
     ]
    }
   ],
   "source": [
    "print(mt.tag(sent_3))"
   ]
  },
  {
   "cell_type": "markdown",
   "metadata": {},
   "source": [
    "\"I bought this book from Kerala\""
   ]
  },
  {
   "cell_type": "code",
   "execution_count": 46,
   "metadata": {},
   "outputs": [
    {
     "name": "stdout",
     "output_type": "stream",
     "text": [
      "[('I', 'PRP'), ('bought', 'VBD'), ('this', 'DET'), ('book', 'NN'), ('from', 'ADP'), ('Kerala', 'NN')]\n"
     ]
    }
   ],
   "source": [
    "print(mt.tag(token_1))"
   ]
  },
  {
   "cell_type": "markdown",
   "metadata": {},
   "source": [
    "He will book tickets to Kerala"
   ]
  },
  {
   "cell_type": "code",
   "execution_count": 49,
   "metadata": {},
   "outputs": [
    {
     "name": "stdout",
     "output_type": "stream",
     "text": [
      "[('He', 'PRP'), ('will', 'VB'), ('book', 'VB'), ('tickets', 'NNS'), ('to', 'TO'), ('Kerala', 'NNP')]\n"
     ]
    }
   ],
   "source": [
    "print(mt.tag(token_2))"
   ]
  },
  {
   "cell_type": "code",
   "execution_count": null,
   "metadata": {
    "collapsed": true
   },
   "outputs": [],
   "source": []
  }
 ],
 "metadata": {
  "kernelspec": {
   "display_name": "Python 3",
   "language": "python",
   "name": "python3"
  },
  "language_info": {
   "codemirror_mode": {
    "name": "ipython",
    "version": 3
   },
   "file_extension": ".py",
   "mimetype": "text/x-python",
   "name": "python",
   "nbconvert_exporter": "python",
   "pygments_lexer": "ipython3",
   "version": "3.5.2"
  }
 },
 "nbformat": 4,
 "nbformat_minor": 2
}
