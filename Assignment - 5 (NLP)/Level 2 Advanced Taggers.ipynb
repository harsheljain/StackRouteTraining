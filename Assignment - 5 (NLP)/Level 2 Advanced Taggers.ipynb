{
 "cells": [
  {
   "cell_type": "markdown",
   "metadata": {},
   "source": [
    "## A bit more processing"
   ]
  },
  {
   "cell_type": "markdown",
   "metadata": {},
   "source": [
    "So here is Mr. James Wilson who wrote about Elon Musk. Here is the following content.\n",
    "\n",
    "~~~~ \n",
    "Musk was born on June 28, 1971, in Pretoria, Gauteng, South Africa,[27] the son of Maye Musk (née Haldeman), a model and dietician from Regina, Saskatchewan, Canada;[28] and Errol Musk, a South African electromechanical engineer, pilot and sailor. He has a younger brother, Kimbal (born 1972), and a younger sister, Tosca (born 1974).[28][29][30][31] His paternal grandmother was British, and he also has Pennsylvania Dutch ancestry,[32][33] and his maternal grandfather was American, from Minnesota.[34] After his parents divorced in 1980, Musk lived mostly with his father in the suburbs of Pretoria.[32]\n",
    "\n",
    "During his childhood he had an interest in reading and often did so for hours at a time.[35]\n",
    "\n",
    "At What age did Musk got interested in computing? At age 10, he developed an interest in computing with the Commodore VIC-20.[36] He taught himself computer programming at the age of 12, sold the code for a BASIC-based video game he created called Blastar, to a magazine called PC and Office Technology, for approximately $500. [37][38] A web version of the game is available online.[37][39]\n",
    "\n",
    "Musk was severely bullied throughout his childhood, and was once hospitalized when a group of boys threw him down a flight of stairs and then beat him until he lost consciousness.[40]\n",
    "\n",
    "Musk was initially educated at private schools, attending the English-speaking Waterkloof House Preparatory School. \n",
    "\n",
    "Mr. Singh helped Musk during his initial days when he was severely bullied during his childhood.\n",
    "\n",
    "Musk later graduated from Pretoria Boys High School and moved to Canada in June 1989, just before his 18th birthday,[41] after obtaining Canadian citizenship through his Canadian-born mother.[42][43] Although at the time Musk had to register to become a Canadian citizen, Bill C-37, which came into law in April of 2009, effectively made his Canadian citizenship retroactive to his birth since he was born in the first generation abroad to a Canadian-born mother. Therefore, with the law change, he is considered to have always been a Canadian citizen by birth.\n",
    "~~~~\n"
   ]
  },
  {
   "cell_type": "markdown",
   "metadata": {},
   "source": [
    "\n",
    "## Part - 1\n",
    "\n",
    "    Word Tokenize the content published using RegexpTokenizer\n",
    "\n",
    "\n",
    "## Part - 2\n",
    "\n",
    "    There's a kind of problem with this content there are lot of tokens which are kind of junk.\n",
    "\n",
    "    I am talking about the characters like [27] which kind of makes it difficult to read. Write a function to remove this?\n",
    "\n",
    "        1. Well there are many ways to do this\n",
    "\n",
    "            1.1 But remove these patterns using RegexpTokenizer combined with some kind of pattern matcher there are many (findall, search, match)\n",
    "\n",
    "            1.2 Remove using some other technique other than Regular Expression tokenizer\n",
    "        \n",
    "## Part - 3\n",
    "\n",
    "    Extract all the important years from the given extract. Also extract the word immediately preceded by the year. If the contained in date extract the entire date. (In reference to the document)\n",
    "    \n",
    "## Part - 4\n",
    "\n",
    "    1. Find all the words which are preceded by the year. For example in \"born 1970\" born is the word which is preceded by 1970\n",
    "    \n",
    "    2. Find all the words which are 4 characters long\n",
    "    \n",
    "    3. Find all the years which are not followed by the word born\n",
    "    \n",
    "    "
   ]
  },
  {
   "cell_type": "markdown",
   "metadata": {},
   "source": [
    "#### Document ####"
   ]
  },
  {
   "cell_type": "code",
   "execution_count": 3,
   "metadata": {
    "collapsed": true
   },
   "outputs": [],
   "source": [
    "document = \"Musk was born on June 28, 1971, in Pretoria, Gauteng, South Africa,[27] the son of Maye Musk (née Haldeman), \\\n",
    "a model and dietician from Regina, Saskatchewan, Canada;[28] and Errol Musk, a South African electromechanical engineer,\\\n",
    "pilot and sailor. He has a younger brother, Kimbal (born 1972), and a younger sister, Tosca (born 1974). [28][29][30][31]\\\n",
    "His paternal grandmother was British, and he also has Pennsylvania Dutch ancestry,[32][33] and his maternal grandfather\\\n",
    "was American, from Minnesota.[34] After his parents divorced in 1980, Musk lived mostly with his father in the suburbs of\\\n",
    "Pretoria.[32]\\\n",
    "During his childhood he had an interest in reading and often did so for hours at a time.[35]\\\n",
    "At What age did Musk got interested in computing? At age 10, he developed an interest in computing with the Commodore\\\n",
    "VIC-20.[36] He taught himself computer programming at the age of 12, sold the code for a BASIC-based video game he\\\n",
    "created called Blastar, to a magazine called PC and Office Technology, for approximately $500. [37][38] A web version of \\\n",
    "the game is available online.[37][39]\\\n",
    "Musk was severely bullied throughout his childhood, and was once hospitalized when a group of boys threw him down a \\\n",
    "flight of stairs and then beat him until he lost consciousness.[40]\\\n",
    "Musk was initially educated at private schools, attending the English-speaking Waterkloof House Preparatory School. \\\n",
    "Mr. Singh helped Musk during his initial days when he was severely bullied during his childhood.\\\n",
    "Musk later graduated from Pretoria Boys High School and moved to Canada in June 1989, just before his 18th birthday,[41]\\\n",
    "after obtaining Canadian citizenship through his Canadian-born mother.[42][43] Although at the time Musk had to register\\\n",
    "to become a Canadian citizen, Bill C-37, which came into law in April of 2009, effectively made his Canadian citizenship\\\n",
    "retroactive to his birth since he was born in the first generation abroad to a Canadian-born mother. Therefore, with the\\\n",
    "law change, he is considered to have always been a Canadian citizen by birth.\""
   ]
  },
  {
   "cell_type": "markdown",
   "metadata": {
    "collapsed": true
   },
   "source": [
    "## Part -1 ##"
   ]
  },
  {
   "cell_type": "code",
   "execution_count": 4,
   "metadata": {
    "collapsed": true
   },
   "outputs": [],
   "source": [
    "from nltk.tokenize import RegexpTokenizer\n",
    "import re"
   ]
  },
  {
   "cell_type": "markdown",
   "metadata": {},
   "source": [
    "Word Tokenize the content published using RegexpTokenizer"
   ]
  },
  {
   "cell_type": "code",
   "execution_count": 5,
   "metadata": {
    "collapsed": true
   },
   "outputs": [],
   "source": [
    "tokenizer = RegexpTokenizer('\\w+|\\$[\\d\\.]+|\\S+')\n",
    "part1 = tokenizer.tokenize(document)"
   ]
  },
  {
   "cell_type": "markdown",
   "metadata": {},
   "source": [
    "## Part - 2 ##"
   ]
  },
  {
   "cell_type": "markdown",
   "metadata": {},
   "source": [
    "## 2.1 removing [..] using regex ##"
   ]
  },
  {
   "cell_type": "code",
   "execution_count": 13,
   "metadata": {},
   "outputs": [
    {
     "name": "stdout",
     "output_type": "stream",
     "text": [
      "Musk was born on June 28, 1971, in Pretoria, Gauteng, South Africa, the son of Maye Musk (née Haldeman), a model and dietician from Regina, Saskatchewan, Canada; and Errol Musk, a South African electromechanical engineer,pilot and sailor. He has a younger brother, Kimbal (born 1972), and a younger sister, Tosca (born 1974). His paternal grandmother was British, and he also has Pennsylvania Dutch ancestry, and his maternal grandfatherwas American, from Minnesota. After his parents divorced in 1980, Musk lived mostly with his father in the suburbs ofPretoria.During his childhood he had an interest in reading and often did so for hours at a time.At What age did Musk got interested in computing? At age 10, he developed an interest in computing with the CommodoreVIC-20. He taught himself computer programming at the age of 12, sold the code for a BASIC-based video game hecreated called Blastar, to a magazine called PC and Office Technology, for approximately $500.  A web version of the game is available online.Musk was severely bullied throughout his childhood, and was once hospitalized when a group of boys threw him down a flight of stairs and then beat him until he lost consciousness.Musk was initially educated at private schools, attending the English-speaking Waterkloof House Preparatory School. Mr. Singh helped Musk during his initial days when he was severely bullied during his childhood.Musk later graduated from Pretoria Boys High School and moved to Canada in June 1989, just before his 18th birthday,after obtaining Canadian citizenship through his Canadian-born mother. Although at the time Musk had to registerto become a Canadian citizen, Bill C-37, which came into law in April of 2009, effectively made his Canadian citizenshipretroactive to his birth since he was born in the first generation abroad to a Canadian-born mother. Therefore, with thelaw change, he is considered to have always been a Canadian citizen by birth.\n"
     ]
    }
   ],
   "source": [
    "from nltk.tokenize import word_tokenize\n",
    "tokenizer = re.sub(r'\\[..\\]', '', document)\n",
    "print(tokenizer)\n"
   ]
  },
  {
   "cell_type": "markdown",
   "metadata": {},
   "source": [
    "## 2.2 removing [..] manually  ##"
   ]
  },
  {
   "cell_type": "code",
   "execution_count": 14,
   "metadata": {},
   "outputs": [
    {
     "data": {
      "text/plain": [
       "'Musk was born on June 28, 1971, in Pretoria, Gauteng, South Africa, the son of Maye Musk (née Haldeman), a model and dietician from Regina, Saskatchewan, Canada; and Errol Musk, a South African electromechanical engineer,pilot and sailor. He has a younger brother, Kimbal (born 1972), and a younger sister, Tosca (born 1974). His paternal grandmother was British, and he also has Pennsylvania Dutch ancestry, and his maternal grandfatherwas American, from Minnesota. After his parents divorced in 1980, Musk lived mostly with his father in the suburbs ofPretoria.During his childhood he had an interest in reading and often did so for hours at a time.At What age did Musk got interested in computing? At age 10, he developed an interest in computing with the CommodoreVIC-20. He taught himself computer programming at the age of 12, sold the code for a BASIC-based video game hecreated called Blastar, to a magazine called PC and Office Technology, for approximately $500.  A web version of the game is available online.Musk was severely bullied throughout his childhood, and was once hospitalized when a group of boys threw him down a flight of stairs and then beat him until he lost consciousness.Musk was initially educated at private schools, attending the English-speaking Waterkloof House Preparatory School. Mr. Singh helped Musk during his initial days when he was severely bullied during his childhood.Musk later graduated from Pretoria Boys High School and moved to Canada in June 1989, just before his 18th birthday,after obtaining Canadian citizenship through his Canadian-born mother. Although at the time Musk had to registerto become a Canadian citizen, Bill C-37, which came into law in April of 2009, effectively made his Canadian citizenshipretroactive to his birth since he was born in the first generation abroad to a Canadian-born mother. Therefore, with thelaw change, he is considered to have always been a Canadian citizen by birth.'"
      ]
     },
     "execution_count": 14,
     "metadata": {},
     "output_type": "execute_result"
    }
   ],
   "source": [
    "new_document = list(document)\n",
    "part2 = \"\"\n",
    "\n",
    "for i in range(0,len(document)):\n",
    "    if(i==(len(document))):\n",
    "        break\n",
    "    if((document[i]=='[')):\n",
    "        new_document[i] = ''\n",
    "        new_document[i+1] = ''\n",
    "        new_document[i+2] = ''\n",
    "        new_document[i+3] = ''\n",
    "    part2 = part2 + new_document[i]\n",
    "str(part2)\n",
    "\n"
   ]
  },
  {
   "cell_type": "markdown",
   "metadata": {},
   "source": [
    "## Part - 3 ##"
   ]
  },
  {
   "cell_type": "code",
   "execution_count": 16,
   "metadata": {
    "collapsed": true
   },
   "outputs": [],
   "source": [
    "pattern1 = \"(January|February|March|April|May|June|July|August|September|October|November|December)[ ]([0-9][0-9])[\\,][ ]([\\d]{4})\"\n",
    "pattern2 = \"(January|February|March|April|May|June|July|August|September|October|November|December)[ ](of)[ ]([\\d]{4})\"\n",
    "pattern3 = \"(\\w+)[ ]([\\d]{4})\""
   ]
  },
  {
   "cell_type": "markdown",
   "metadata": {},
   "source": [
    "#### Extracting important years ####"
   ]
  },
  {
   "cell_type": "code",
   "execution_count": 17,
   "metadata": {},
   "outputs": [
    {
     "name": "stdout",
     "output_type": "stream",
     "text": [
      "[('June', '28', '1971')]\n",
      "[('April', 'of', '2009')]\n",
      "[('born', '1972'), ('born', '1974'), ('in', '1980'), ('June', '1989')]\n"
     ]
    }
   ],
   "source": [
    "part_1 = RegexpTokenizer(pattern1)\n",
    "imp_year1 = part_1.tokenize(part2)\n",
    "print(imp_year1)\n",
    "\n",
    "part_2 = RegexpTokenizer(pattern2)\n",
    "imp_year2 = part_2.tokenize(part2)\n",
    "print(imp_year2)\n",
    "\n",
    "part_3 = RegexpTokenizer(pattern3)\n",
    "imp_year30 = part_3.tokenize(part2)\n",
    "imp_year3 = []\n",
    "for i in range(0,len(imp_year30)):\n",
    "    if (imp_year30[i][0]=='of'):\n",
    "        continue\n",
    "    else:\n",
    "        imp_year3.append(imp_year30[i])\n",
    "print(imp_year3)"
   ]
  },
  {
   "cell_type": "markdown",
   "metadata": {},
   "source": [
    "## Part - 4 ##"
   ]
  },
  {
   "cell_type": "markdown",
   "metadata": {},
   "source": [
    "## 1- words that precede an year ##"
   ]
  },
  {
   "cell_type": "code",
   "execution_count": 9,
   "metadata": {},
   "outputs": [
    {
     "name": "stdout",
     "output_type": "stream",
     "text": [
      "[('born', '1972'), ('born', '1974'), ('in', '1980'), ('June', '1989'), ('of', '2009')]\n"
     ]
    }
   ],
   "source": [
    "part41 = RegexpTokenizer(pattern3)\n",
    "imp_year41 = part41.tokenize(part2)\n",
    "print (imp_year41)"
   ]
  },
  {
   "cell_type": "markdown",
   "metadata": {},
   "source": [
    "## 2 - All 4 characters long words ##"
   ]
  },
  {
   "cell_type": "code",
   "execution_count": 19,
   "metadata": {},
   "outputs": [
    {
     "data": {
      "text/plain": [
       "{'18th',\n",
       " '1971',\n",
       " '1972',\n",
       " '1974',\n",
       " '1980',\n",
       " '1989',\n",
       " '2009',\n",
       " 'Bill',\n",
       " 'Boys',\n",
       " 'C-37',\n",
       " 'High',\n",
       " 'June',\n",
       " 'Maye',\n",
       " 'Musk',\n",
       " 'What',\n",
       " 'also',\n",
       " 'beat',\n",
       " 'been',\n",
       " 'born',\n",
       " 'boys',\n",
       " 'came',\n",
       " 'code',\n",
       " 'days',\n",
       " 'down',\n",
       " 'from',\n",
       " 'game',\n",
       " 'have',\n",
       " 'into',\n",
       " 'just',\n",
       " 'lost',\n",
       " 'made',\n",
       " 'once',\n",
       " 'sold',\n",
       " 'then',\n",
       " 'time',\n",
       " 'when',\n",
       " 'with'}"
      ]
     },
     "execution_count": 19,
     "metadata": {},
     "output_type": "execute_result"
    }
   ],
   "source": [
    "four = []\n",
    "m = word_tokenize(part2)\n",
    "for i in range(len(m)):\n",
    "    if(len(m[i])==4):\n",
    "        four.append(m[i])\n",
    "four_letter  = set(four)\n",
    "four_letter"
   ]
  },
  {
   "cell_type": "markdown",
   "metadata": {},
   "source": [
    "## 3 - all the years which are not followed by the word born ##"
   ]
  },
  {
   "cell_type": "code",
   "execution_count": 20,
   "metadata": {},
   "outputs": [
    {
     "name": "stdout",
     "output_type": "stream",
     "text": [
      "[('in', '1980'), ('June', '1989'), ('of', '2009')]\n"
     ]
    }
   ],
   "source": [
    "part43 = RegexpTokenizer(pattern3)\n",
    "imp_year40 = part43.tokenize(part2)\n",
    "imp_year4 = []\n",
    "for i in range(0,len(imp_year40)):\n",
    "    if (imp_year40[i][0]=='born'):\n",
    "        continue\n",
    "    else:\n",
    "        imp_year4.append(imp_year40[i])\n",
    "print(imp_year4)\n"
   ]
  }
 ],
 "metadata": {
  "kernelspec": {
   "display_name": "Python 3",
   "language": "python",
   "name": "python3"
  },
  "language_info": {
   "codemirror_mode": {
    "name": "ipython",
    "version": 3
   },
   "file_extension": ".py",
   "mimetype": "text/x-python",
   "name": "python",
   "nbconvert_exporter": "python",
   "pygments_lexer": "ipython3",
   "version": "3.5.2"
  }
 },
 "nbformat": 4,
 "nbformat_minor": 2
}
